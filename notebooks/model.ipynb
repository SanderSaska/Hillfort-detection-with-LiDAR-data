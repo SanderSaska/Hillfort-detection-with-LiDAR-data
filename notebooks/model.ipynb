{
 "cells": [
  {
   "cell_type": "markdown",
   "metadata": {},
   "source": [
    "# Hillfort detection with LiDAR data\n",
    "## Data management"
   ]
  },
  {
   "cell_type": "markdown",
   "metadata": {},
   "source": [
    "## Table of contents\n",
    "\n",
    "[Code](#code)\n",
    "\n",
    "1. [**Preparing data for training**](#preparing-data-for-training)\n",
    "2. [**Initializing and training PointNet**](#initializing-and-training-pointnet)\n",
    "3. [**Evaluating the models**](#evaluating-the-models)\n",
    "4. [**Hyperparameter tuning**](#hyperparameter-tuning)\n",
    "5. [**Results**](#results)\n",
    "\n",
    "[End](#end)"
   ]
  },
  {
   "cell_type": "markdown",
   "metadata": {},
   "source": [
    "## Code"
   ]
  },
  {
   "cell_type": "code",
   "execution_count": 3,
   "metadata": {},
   "outputs": [
    {
     "name": "stdout",
     "output_type": "stream",
     "text": [
      "Requirement already satisfied: pandas in c:\\users\\ukuva\\appdata\\local\\programs\\python\\python313\\lib\\site-packages (2.2.3)"
     ]
    },
    {
     "name": "stderr",
     "output_type": "stream",
     "text": [
      "\n",
      "[notice] A new release of pip is available: 25.0 -> 25.0.1\n",
      "[notice] To update, run: python.exe -m pip install --upgrade pip\n"
     ]
    },
    {
     "name": "stdout",
     "output_type": "stream",
     "text": [
      "\n",
      "Requirement already satisfied: scikit-learn in c:\\users\\ukuva\\appdata\\local\\programs\\python\\python313\\lib\\site-packages (1.6.1)\n",
      "Requirement already satisfied: numpy in c:\\users\\ukuva\\appdata\\local\\programs\\python\\python313\\lib\\site-packages (2.1.2)\n",
      "Requirement already satisfied: matplotlib in c:\\users\\ukuva\\appdata\\local\\programs\\python\\python313\\lib\\site-packages (3.10.0)\n",
      "Requirement already satisfied: laspy in c:\\users\\ukuva\\appdata\\local\\programs\\python\\python313\\lib\\site-packages (2.5.4)\n",
      "Requirement already satisfied: tqdm in c:\\users\\ukuva\\appdata\\local\\programs\\python\\python313\\lib\\site-packages (4.67.1)\n",
      "Requirement already satisfied: geopandas in c:\\users\\ukuva\\appdata\\local\\programs\\python\\python313\\lib\\site-packages (1.0.1)\n",
      "Requirement already satisfied: python-dateutil>=2.8.2 in c:\\users\\ukuva\\appdata\\roaming\\python\\python313\\site-packages (from pandas) (2.9.0.post0)\n",
      "Requirement already satisfied: pytz>=2020.1 in c:\\users\\ukuva\\appdata\\local\\programs\\python\\python313\\lib\\site-packages (from pandas) (2025.1)\n",
      "Requirement already satisfied: tzdata>=2022.7 in c:\\users\\ukuva\\appdata\\local\\programs\\python\\python313\\lib\\site-packages (from pandas) (2025.1)\n",
      "Requirement already satisfied: scipy>=1.6.0 in c:\\users\\ukuva\\appdata\\local\\programs\\python\\python313\\lib\\site-packages (from scikit-learn) (1.15.1)\n",
      "Requirement already satisfied: joblib>=1.2.0 in c:\\users\\ukuva\\appdata\\local\\programs\\python\\python313\\lib\\site-packages (from scikit-learn) (1.4.2)\n",
      "Requirement already satisfied: threadpoolctl>=3.1.0 in c:\\users\\ukuva\\appdata\\local\\programs\\python\\python313\\lib\\site-packages (from scikit-learn) (3.5.0)\n",
      "Requirement already satisfied: contourpy>=1.0.1 in c:\\users\\ukuva\\appdata\\local\\programs\\python\\python313\\lib\\site-packages (from matplotlib) (1.3.1)\n",
      "Requirement already satisfied: cycler>=0.10 in c:\\users\\ukuva\\appdata\\local\\programs\\python\\python313\\lib\\site-packages (from matplotlib) (0.12.1)\n",
      "Requirement already satisfied: fonttools>=4.22.0 in c:\\users\\ukuva\\appdata\\local\\programs\\python\\python313\\lib\\site-packages (from matplotlib) (4.55.8)\n",
      "Requirement already satisfied: kiwisolver>=1.3.1 in c:\\users\\ukuva\\appdata\\local\\programs\\python\\python313\\lib\\site-packages (from matplotlib) (1.4.8)\n",
      "Requirement already satisfied: packaging>=20.0 in c:\\users\\ukuva\\appdata\\roaming\\python\\python313\\site-packages (from matplotlib) (24.2)\n",
      "Requirement already satisfied: pillow>=8 in c:\\users\\ukuva\\appdata\\local\\programs\\python\\python313\\lib\\site-packages (from matplotlib) (11.0.0)\n",
      "Requirement already satisfied: pyparsing>=2.3.1 in c:\\users\\ukuva\\appdata\\local\\programs\\python\\python313\\lib\\site-packages (from matplotlib) (3.2.1)\n",
      "Requirement already satisfied: colorama in c:\\users\\ukuva\\appdata\\roaming\\python\\python313\\site-packages (from tqdm) (0.4.6)\n",
      "Requirement already satisfied: pyogrio>=0.7.2 in c:\\users\\ukuva\\appdata\\local\\programs\\python\\python313\\lib\\site-packages (from geopandas) (0.10.0)\n",
      "Requirement already satisfied: pyproj>=3.3.0 in c:\\users\\ukuva\\appdata\\local\\programs\\python\\python313\\lib\\site-packages (from geopandas) (3.7.0)\n",
      "Requirement already satisfied: shapely>=2.0.0 in c:\\users\\ukuva\\appdata\\local\\programs\\python\\python313\\lib\\site-packages (from geopandas) (2.0.7)\n",
      "Requirement already satisfied: certifi in c:\\users\\ukuva\\appdata\\local\\programs\\python\\python313\\lib\\site-packages (from pyogrio>=0.7.2->geopandas) (2025.1.31)\n",
      "Requirement already satisfied: six>=1.5 in c:\\users\\ukuva\\appdata\\roaming\\python\\python313\\site-packages (from python-dateutil>=2.8.2->pandas) (1.17.0)\n"
     ]
    }
   ],
   "source": [
    "# Module installs\n",
    "!pip install pandas scikit-learn numpy matplotlib laspy tqdm geopandas"
   ]
  },
  {
   "cell_type": "code",
   "execution_count": null,
   "metadata": {},
   "outputs": [
    {
     "name": "stdout",
     "output_type": "stream",
     "text": [
      "Looking in indexes: https://download.pytorch.org/whl/cu124\n",
      "Requirement already satisfied: torch in c:\\users\\ukuva\\appdata\\local\\programs\\python\\python313\\lib\\site-packages (2.6.0+cu124)\n",
      "Requirement already satisfied: torchvision in c:\\users\\ukuva\\appdata\\local\\programs\\python\\python313\\lib\\site-packages (0.21.0+cu124)\n",
      "Requirement already satisfied: torchaudio in c:\\users\\ukuva\\appdata\\local\\programs\\python\\python313\\lib\\site-packages (2.6.0+cu124)\n",
      "Requirement already satisfied: filelock in c:\\users\\ukuva\\appdata\\local\\programs\\python\\python313\\lib\\site-packages (from torch) (3.13.1)\n",
      "Requirement already satisfied: typing-extensions>=4.10.0 in c:\\users\\ukuva\\appdata\\local\\programs\\python\\python313\\lib\\site-packages (from torch) (4.12.2)\n",
      "Requirement already satisfied: networkx in c:\\users\\ukuva\\appdata\\local\\programs\\python\\python313\\lib\\site-packages (from torch) (3.3)\n",
      "Requirement already satisfied: jinja2 in c:\\users\\ukuva\\appdata\\local\\programs\\python\\python313\\lib\\site-packages (from torch) (3.1.4)\n",
      "Requirement already satisfied: fsspec in c:\\users\\ukuva\\appdata\\local\\programs\\python\\python313\\lib\\site-packages (from torch) (2024.6.1)\n",
      "Requirement already satisfied: setuptools in c:\\users\\ukuva\\appdata\\local\\programs\\python\\python313\\lib\\site-packages (from torch) (70.2.0)\n",
      "Requirement already satisfied: sympy==1.13.1 in c:\\users\\ukuva\\appdata\\local\\programs\\python\\python313\\lib\\site-packages (from torch) (1.13.1)\n",
      "Requirement already satisfied: mpmath<1.4,>=1.1.0 in c:\\users\\ukuva\\appdata\\local\\programs\\python\\python313\\lib\\site-packages (from sympy==1.13.1->torch) (1.3.0)\n",
      "Requirement already satisfied: numpy in c:\\users\\ukuva\\appdata\\local\\programs\\python\\python313\\lib\\site-packages (from torchvision) (2.1.2)\n",
      "Requirement already satisfied: pillow!=8.3.*,>=5.3.0 in c:\\users\\ukuva\\appdata\\local\\programs\\python\\python313\\lib\\site-packages (from torchvision) (11.0.0)\n",
      "Requirement already satisfied: MarkupSafe>=2.0 in c:\\users\\ukuva\\appdata\\local\\programs\\python\\python313\\lib\\site-packages (from jinja2->torch) (2.1.5)\n"
     ]
    },
    {
     "name": "stderr",
     "output_type": "stream",
     "text": [
      "\n",
      "[notice] A new release of pip is available: 25.0 -> 25.0.1\n",
      "[notice] To update, run: python.exe -m pip install --upgrade pip\n"
     ]
    }
   ],
   "source": [
    "# If you have GPU\n",
    "!pip3 install torch torchvision torchaudio --index-url https://download.pytorch.org/whl/cu124\n",
    "# # Otherwise comment out the upper\n",
    "!pip3 install torch torchvision torchaudio"
   ]
  },
  {
   "cell_type": "markdown",
   "metadata": {},
   "source": [
    "### Defined functions"
   ]
  },
  {
   "cell_type": "code",
   "execution_count": 2,
   "metadata": {},
   "outputs": [],
   "source": [
    "# Imports\n",
    "import os\n",
    "import itertools\n",
    "import logging\n",
    "import zipfile\n",
    "import pandas as pd\n",
    "import sklearn as sk\n",
    "import numpy as np\n",
    "import torch\n",
    "import shapely\n",
    "import matplotlib.pyplot as plt\n",
    "import laspy # Reading LAS file format\n",
    "from tqdm import tqdm # Loading bars\n",
    "import geopandas as gpd\n",
    "import torch\n",
    "import torch.nn as nn\n",
    "import torch.nn.functional as F\n",
    "from torch.utils.data import Dataset, DataLoader\n",
    "from sklearn.metrics import confusion_matrix, classification_report\n",
    "from sklearn.model_selection import train_test_split"
   ]
  },
  {
   "cell_type": "markdown",
   "metadata": {},
   "source": [
    "The model setup has been copied from Nikita Karaev's Google Colab [PointNetClass](https://colab.research.google.com/github/nikitakaraevv/pointnet/blob/master/nbs/PointNetClass.ipynb#scrollTo=ZV20opgrv23I). Criterion has been customized."
   ]
  },
  {
   "cell_type": "code",
   "execution_count": 3,
   "metadata": {},
   "outputs": [],
   "source": [
    "class Tnet(nn.Module):\n",
    "   def __init__(self, k=3):\n",
    "      super().__init__()\n",
    "      self.k=k\n",
    "      self.conv1 = nn.Conv1d(k,64,1)\n",
    "      self.conv2 = nn.Conv1d(64,128,1)\n",
    "      self.conv3 = nn.Conv1d(128,1024,1)\n",
    "      self.fc1 = nn.Linear(1024,512)\n",
    "      self.fc2 = nn.Linear(512,256)\n",
    "      self.fc3 = nn.Linear(256,k*k)\n",
    "\n",
    "      self.bn1 = nn.BatchNorm1d(64)\n",
    "      self.bn2 = nn.BatchNorm1d(128)\n",
    "      self.bn3 = nn.BatchNorm1d(1024)\n",
    "      self.bn4 = nn.BatchNorm1d(512)\n",
    "      self.bn5 = nn.BatchNorm1d(256)\n",
    "       \n",
    "\n",
    "   def forward(self, input):\n",
    "      # input.shape == (bs,n,3)\n",
    "      bs = input.size(0)\n",
    "      xb = F.relu(self.bn1(self.conv1(input)))\n",
    "      xb = F.relu(self.bn2(self.conv2(xb)))\n",
    "      xb = F.relu(self.bn3(self.conv3(xb)))\n",
    "      pool = nn.MaxPool1d(xb.size(-1))(xb)\n",
    "      flat = nn.Flatten(1)(pool)\n",
    "      xb = F.relu(self.bn4(self.fc1(flat)))\n",
    "      xb = F.relu(self.bn5(self.fc2(xb)))\n",
    "      \n",
    "      #initialize as identity\n",
    "      init = torch.eye(self.k, requires_grad=True).repeat(bs,1,1)\n",
    "      if xb.is_cuda:\n",
    "        init=init.cuda()\n",
    "      matrix = self.fc3(xb).view(-1,self.k,self.k) + init\n",
    "      return matrix\n",
    "\n",
    "\n",
    "class Transform(nn.Module):\n",
    "   def __init__(self):\n",
    "        super().__init__()\n",
    "        self.input_transform = Tnet(k=3)\n",
    "        self.feature_transform = Tnet(k=64)\n",
    "        self.conv1 = nn.Conv1d(3,64,1)\n",
    "\n",
    "        self.conv2 = nn.Conv1d(64,128,1)\n",
    "        self.conv3 = nn.Conv1d(128,1024,1)\n",
    "       \n",
    "\n",
    "        self.bn1 = nn.BatchNorm1d(64)\n",
    "        self.bn2 = nn.BatchNorm1d(128)\n",
    "        self.bn3 = nn.BatchNorm1d(1024)\n",
    "       \n",
    "   def forward(self, input):\n",
    "        matrix3x3 = self.input_transform(input)\n",
    "        # batch matrix multiplication\n",
    "        xb = torch.bmm(torch.transpose(input,1,2), matrix3x3).transpose(1,2)\n",
    "\n",
    "        xb = F.relu(self.bn1(self.conv1(xb)))\n",
    "\n",
    "        matrix64x64 = self.feature_transform(xb)\n",
    "        xb = torch.bmm(torch.transpose(xb,1,2), matrix64x64).transpose(1,2)\n",
    "\n",
    "        xb = F.relu(self.bn2(self.conv2(xb)))\n",
    "        xb = self.bn3(self.conv3(xb))\n",
    "        xb = nn.MaxPool1d(xb.size(-1))(xb)\n",
    "        output = nn.Flatten(1)(xb)\n",
    "        return output, matrix3x3, matrix64x64\n",
    "\n",
    "class PointNet(nn.Module):\n",
    "    def __init__(self, classes = 10):\n",
    "        super().__init__()\n",
    "        self.transform = Transform()\n",
    "        self.fc1 = nn.Linear(1024, 512)\n",
    "        self.fc2 = nn.Linear(512, 256)\n",
    "        self.fc3 = nn.Linear(256, classes)\n",
    "        \n",
    "\n",
    "        self.bn1 = nn.BatchNorm1d(512)\n",
    "        self.bn2 = nn.BatchNorm1d(256)\n",
    "        self.dropout = nn.Dropout(p=0.3)\n",
    "        self.logsoftmax = nn.LogSoftmax(dim=1)\n",
    "\n",
    "    def forward(self, input):\n",
    "        xb, matrix3x3, matrix64x64 = self.transform(input)\n",
    "        xb = F.relu(self.bn1(self.fc1(xb)))\n",
    "        xb = F.relu(self.bn2(self.dropout(self.fc2(xb))))\n",
    "        output = self.fc3(xb)\n",
    "        return self.logsoftmax(output), matrix3x3, matrix64x64"
   ]
  },
  {
   "cell_type": "code",
   "execution_count": 4,
   "metadata": {},
   "outputs": [],
   "source": [
    "class PointCloudDataset(Dataset):\n",
    "    def __init__(self, xyz, labels, num_points=1024):\n",
    "        self.xyz = xyz\n",
    "        self.labels = labels\n",
    "        self.num_points = num_points\n",
    "\n",
    "    def __len__(self):\n",
    "        return len(self.xyz)  # Number of point clouds in the dataset\n",
    "\n",
    "    def __getitem__(self, idx):\n",
    "        points = self.xyz[idx]  # Points for the idx-th sample\n",
    "        labels = self.labels[idx]  # Labels for the same sample\n",
    "        \n",
    "        # Ensure points is a 2D tensor with shape (N, 3)\n",
    "        if points.ndimension() == 1:\n",
    "            points = points.view(-1, 3)\n",
    "\n",
    "        # Padding to ensure every point cloud has num_points\n",
    "        if points.shape[0] < self.num_points:\n",
    "            padding = torch.zeros(self.num_points - points.shape[0], 3)  # Padding with zeros\n",
    "            points = torch.cat([points, padding], dim=0)  # Concatenate the points with the padding\n",
    "        else:\n",
    "            points = points[:self.num_points]  # Truncate if there are more than num_points\n",
    "\n",
    "        return {'pointcloud': points, 'category': labels}"
   ]
  },
  {
   "cell_type": "code",
   "execution_count": 5,
   "metadata": {},
   "outputs": [],
   "source": [
    "def pointnetloss(outputs, labels, m3x3, m64x64, criterion, m3x3_weight=0.0001, m64x64_weight=0.0001):\n",
    "    if not criterion:\n",
    "        criterion = torch.nn.NLLLoss()\n",
    "    bs = outputs.size(0)\n",
    "\n",
    "    # Identity matrices for regularization (to penalize transformation deviations)\n",
    "    id3x3 = torch.eye(3, requires_grad=True).repeat(bs, 1, 1).to(outputs.device)\n",
    "    id64x64 = torch.eye(64, requires_grad=True).repeat(bs, 1, 1).to(outputs.device)\n",
    "\n",
    "    # Regularization terms\n",
    "    diff3x3 = id3x3 - torch.bmm(m3x3, m3x3.transpose(1, 2))\n",
    "    diff64x64 = id64x64 - torch.bmm(m64x64, m64x64.transpose(1, 2))\n",
    "\n",
    "    # Compute the base loss (negative log likelihood)\n",
    "    base_loss = criterion(outputs, labels)\n",
    "\n",
    "    # Add regularization (transformation matrices)\n",
    "    reg_loss = m3x3_weight * (torch.norm(diff3x3) + torch.norm(diff64x64)) / float(bs)\n",
    "\n",
    "    return base_loss + reg_loss"
   ]
  },
  {
   "cell_type": "code",
   "execution_count": 6,
   "metadata": {},
   "outputs": [],
   "source": [
    "def train(pointnet, criterion, train_loader, device, val_loader=None, epochs=15, save=True, save_location_dir='../model_weights/', last_epoch=0):\n",
    "    optimizer = torch.optim.Adam(pointnet.parameters(), lr=0.001)\n",
    "    for epoch in range(epochs): \n",
    "        print(\"=\"*len(f\"===== Epoch: {last_epoch + epoch + 1} =====\"))\n",
    "        print(f\"===== Epoch: {last_epoch + epoch + 1} =====\")\n",
    "        print(\"=\"*len(f\"===== Epoch: {last_epoch + epoch + 1} =====\"))\n",
    "        pointnet.train()\n",
    "        running_loss = 0.0\n",
    "        for i, data in enumerate(train_loader, 0):\n",
    "            inputs, labels = data['pointcloud'].to(device).float(), data['category'].to(device)\n",
    "            optimizer.zero_grad()\n",
    "            outputs, m3x3, m64x64 = pointnet(inputs.transpose(1,2))\n",
    "\n",
    "            loss = pointnetloss(outputs, labels, m3x3, m64x64, criterion)\n",
    "            loss.backward()\n",
    "            optimizer.step()\n",
    "\n",
    "            running_loss += loss.item()\n",
    "            if i % 10 == 9:    # print every 10 mini-batches\n",
    "                    print('[Epoch: %d, Batch: %4d / %4d], loss: %.3f' %\n",
    "                        (epoch + 1, i + 1, len(train_loader), running_loss / 10))\n",
    "                    running_loss = 0.0\n",
    "\n",
    "        pointnet.eval()\n",
    "        correct = total = 0\n",
    "\n",
    "        # validation\n",
    "        if val_loader:\n",
    "            with torch.no_grad():\n",
    "                for data in val_loader:\n",
    "                    inputs, labels = data['pointcloud'].to(device).float(), data['category'].to(device)\n",
    "                    outputs, __, __ = pointnet(inputs.transpose(1,2))\n",
    "                    _, predicted = torch.max(outputs.data, 1)\n",
    "                    total += labels.size(0)\n",
    "                    correct += (predicted == labels).sum().item()\n",
    "            val_acc = 100. * correct / total\n",
    "            print('Valid accuracy: %d %%' % val_acc)\n",
    "\n",
    "        # save the model\n",
    "        if save:\n",
    "            print(\"Saving model\")\n",
    "            if not os.path.exists(save_location_dir):\n",
    "                os.makedirs(save_location_dir)\n",
    "            torch.save(pointnet.state_dict(), f=os.path.join(save_location_dir, f'save_epoch_{str(last_epoch + epoch + 1)}.pth')) # Save the model weights"
   ]
  },
  {
   "cell_type": "code",
   "execution_count": 7,
   "metadata": {},
   "outputs": [],
   "source": [
    "def prepare_X_and_y(laz_file_dir = '../data/downsampled_class_lazFiles/'):\n",
    "\n",
    "    # Step 1: Get the list of LiDAR files\n",
    "    all_files = [os.path.join(laz_file_dir, f) for f in os.listdir(laz_file_dir) if f.endswith('.laz')]\n",
    "\n",
    "    # Step 2: Split the files into train, validation, and test sets\n",
    "    train_files, test_files = sk.model_selection.train_test_split(all_files, test_size=0.2, random_state=42)  # 20% for testing\n",
    "    train_files, val_files = sk.model_selection.train_test_split(train_files, test_size=0.1, random_state=42)  # 10% of train for validation\n",
    "\n",
    "    print(f\"Number of files - Train: {len(train_files)}, Validation: {len(val_files)}, Test: {len(test_files)}\")\n",
    "\n",
    "    # Step 3: Load and group data based on the splits\n",
    "    def load_grouped_data(file_list):\n",
    "        X, y = [], []\n",
    "        for file in file_list:\n",
    "            las = laspy.read(file)\n",
    "            xyz = las.xyz\n",
    "            labels = (las.points.array['classification'] == 12).astype(int)  # Hillfort class\n",
    "            X.append(xyz)\n",
    "            y.append(labels)\n",
    "        return X, y\n",
    "\n",
    "    # Load data for each split\n",
    "    X_train, y_train = load_grouped_data(train_files)\n",
    "    X_val, y_val = load_grouped_data(val_files)\n",
    "    X_test, y_test = load_grouped_data(test_files)\n",
    "\n",
    "    # Optionally, combine all points into single arrays for each split\n",
    "    X_train_combined = np.vstack(X_train)\n",
    "    y_train_combined = np.concatenate(y_train)\n",
    "\n",
    "    X_val_combined = np.vstack(X_val)\n",
    "    y_val_combined = np.concatenate(y_val)\n",
    "\n",
    "    X_test_combined = np.vstack(X_test)\n",
    "    y_test_combined = np.concatenate(y_test)\n",
    "\n",
    "    # Print final shapes\n",
    "    print(\"Train data shape:\", X_train_combined.shape, y_train_combined.shape)\n",
    "    print(\"Validation data shape:\", X_val_combined.shape, y_val_combined.shape)\n",
    "    print(\"Test data shape:\", X_test_combined.shape, y_test_combined.shape)\n",
    "    \n",
    "    return X_train_combined, y_train_combined, X_val_combined, y_val_combined, X_test_combined, y_test_combined"
   ]
  },
  {
   "cell_type": "markdown",
   "metadata": {},
   "source": [
    "### Preparing data for training"
   ]
  },
  {
   "cell_type": "markdown",
   "metadata": {},
   "source": [
    "Should the model use CPU or GPU"
   ]
  },
  {
   "cell_type": "code",
   "execution_count": 8,
   "metadata": {},
   "outputs": [
    {
     "name": "stdout",
     "output_type": "stream",
     "text": [
      "cuda:0\n"
     ]
    }
   ],
   "source": [
    "device = torch.device(\"cuda:0\" if torch.cuda.is_available() else \"cpu\")\n",
    "print(device)"
   ]
  },
  {
   "cell_type": "markdown",
   "metadata": {},
   "source": [
    "Training, validation and testing data split"
   ]
  },
  {
   "cell_type": "code",
   "execution_count": 9,
   "metadata": {},
   "outputs": [],
   "source": [
    "laz_file_dir = '../data/downsampled_class_lazFiles/'"
   ]
  },
  {
   "cell_type": "code",
   "execution_count": 10,
   "metadata": {},
   "outputs": [
    {
     "name": "stdout",
     "output_type": "stream",
     "text": [
      "Number of files - Train: 93, Validation: 11, Test: 27\n",
      "Train data shape: (1953419, 3) (1953419,)\n",
      "Validation data shape: (233006, 3) (233006,)\n",
      "Test data shape: (572088, 3) (572088,)\n"
     ]
    }
   ],
   "source": [
    "X_train_combined, y_train_combined, X_val_combined, y_val_combined, X_test_combined, y_test_combined = prepare_X_and_y(laz_file_dir)"
   ]
  },
  {
   "cell_type": "markdown",
   "metadata": {},
   "source": [
    "Does `y` have both classes for each set?"
   ]
  },
  {
   "cell_type": "code",
   "execution_count": 11,
   "metadata": {},
   "outputs": [
    {
     "name": "stdout",
     "output_type": "stream",
     "text": [
      "[0 1]\n",
      "[0 1]\n",
      "[0 1]\n"
     ]
    }
   ],
   "source": [
    "print(np.unique(y_train_combined))\n",
    "print(np.unique(y_val_combined))\n",
    "print(np.unique(y_test_combined))"
   ]
  },
  {
   "cell_type": "markdown",
   "metadata": {},
   "source": [
    "Creating criterion that adds more weight to the undersampled class, which is hillforts."
   ]
  },
  {
   "cell_type": "code",
   "execution_count": 12,
   "metadata": {},
   "outputs": [
    {
     "name": "stdout",
     "output_type": "stream",
     "text": [
      "[ 0.50860697 29.54622319]\n"
     ]
    }
   ],
   "source": [
    "class_weights = sk.utils.class_weight.compute_class_weight(class_weight='balanced', classes=np.unique(y_train_combined), y=y_train_combined)\n",
    "class_weights_tensor = torch.tensor(class_weights, dtype=torch.float32).cuda() if device.type == \"cuda\" else torch.tensor(class_weights, dtype=torch.float32)\n",
    "criterion = torch.nn.NLLLoss(weight=class_weights_tensor)\n",
    "print(class_weights)"
   ]
  },
  {
   "cell_type": "markdown",
   "metadata": {},
   "source": [
    "Tensor conversion"
   ]
  },
  {
   "cell_type": "code",
   "execution_count": 13,
   "metadata": {},
   "outputs": [],
   "source": [
    "train_X = torch.from_numpy(X_train_combined)\n",
    "train_y = torch.from_numpy(y_train_combined).long()\n",
    "val_X = torch.from_numpy(X_val_combined)\n",
    "val_y = torch.from_numpy(y_val_combined).long()\n",
    "test_X = torch.from_numpy(X_test_combined)\n",
    "test_y = torch.from_numpy(y_test_combined).long()"
   ]
  },
  {
   "cell_type": "markdown",
   "metadata": {},
   "source": [
    "Setting up splits for model"
   ]
  },
  {
   "cell_type": "code",
   "execution_count": 14,
   "metadata": {},
   "outputs": [],
   "source": [
    "train_dataset = PointCloudDataset(train_X, train_y)\n",
    "val_dataset = PointCloudDataset(val_X, val_y)\n",
    "test_dataset = PointCloudDataset(test_X, test_y)"
   ]
  },
  {
   "cell_type": "code",
   "execution_count": 15,
   "metadata": {},
   "outputs": [],
   "source": [
    "train_loader = DataLoader(train_dataset, batch_size=128, shuffle=True)\n",
    "val_loader = DataLoader(val_dataset, batch_size=128, shuffle=True)\n",
    "test_loader = DataLoader(test_dataset, batch_size=128, shuffle=True)"
   ]
  },
  {
   "cell_type": "markdown",
   "metadata": {},
   "source": [
    "### Initializing and training PointNet"
   ]
  },
  {
   "cell_type": "markdown",
   "metadata": {},
   "source": [
    "Defining model weights save directory and initializing PointNet model"
   ]
  },
  {
   "cell_type": "code",
   "execution_count": 1,
   "metadata": {},
   "outputs": [],
   "source": [
    "model_weights_dir = '../model_weights_pointnet/'"
   ]
  },
  {
   "cell_type": "code",
   "execution_count": null,
   "metadata": {},
   "outputs": [
    {
     "ename": "NameError",
     "evalue": "name 'os' is not defined",
     "output_type": "error",
     "traceback": [
      "\u001b[1;31m---------------------------------------------------------------------------\u001b[0m",
      "\u001b[1;31mNameError\u001b[0m                                 Traceback (most recent call last)",
      "Cell \u001b[1;32mIn[2], line 1\u001b[0m\n\u001b[1;32m----> 1\u001b[0m model_weights \u001b[38;5;241m=\u001b[39m \u001b[43mos\u001b[49m\u001b[38;5;241m.\u001b[39mlistdir(model_weights_dir)\n\u001b[0;32m      2\u001b[0m model_weights\n",
      "\u001b[1;31mNameError\u001b[0m: name 'os' is not defined"
     ]
    }
   ],
   "source": [
    "model_weights = os.listdir(model_weights_dir)\n",
    "model_weights"
   ]
  },
  {
   "cell_type": "code",
   "execution_count": 41,
   "metadata": {},
   "outputs": [],
   "source": [
    "if len(model_weights) < 1:\n",
    "    # Initialize the model\n",
    "    pointnet = PointNet(classes=2)\n",
    "    pointnet.to(device);\n",
    "else:\n",
    "    # Recreate the model architecture\n",
    "    pointnet = PointNet(classes=2)  # Ensure the class arguments are the same as during training\n",
    "\n",
    "    # Load the saved state_dict into the model\n",
    "    pointnet.load_state_dict(torch.load(os.path.join(model_weights_dir, model_weights[-1]), weights_only=True)) # Last epoch model weights\n",
    "\n",
    "    # Move the model to the appropriate device and set it to evaluation mode\n",
    "    pointnet.to(device)"
   ]
  },
  {
   "cell_type": "markdown",
   "metadata": {},
   "source": [
    "Training PointNet"
   ]
  },
  {
   "cell_type": "code",
   "execution_count": 42,
   "metadata": {},
   "outputs": [
    {
     "name": "stdout",
     "output_type": "stream",
     "text": [
      "=====================\n",
      "===== Epoch: 21 =====\n",
      "=====================\n",
      "[Epoch: 1, Batch:   10 / 15262], loss: 0.487\n",
      "[Epoch: 1, Batch:   20 / 15262], loss: 0.417\n",
      "[Epoch: 1, Batch:   30 / 15262], loss: 0.424\n"
     ]
    },
    {
     "ename": "RuntimeError",
     "evalue": "CUDA error: the launch timed out and was terminated\nCUDA kernel errors might be asynchronously reported at some other API call, so the stacktrace below might be incorrect.\nFor debugging consider passing CUDA_LAUNCH_BLOCKING=1\nCompile with `TORCH_USE_CUDA_DSA` to enable device-side assertions.\n",
     "output_type": "error",
     "traceback": [
      "\u001b[1;31m---------------------------------------------------------------------------\u001b[0m",
      "\u001b[1;31mRuntimeError\u001b[0m                              Traceback (most recent call last)",
      "Cell \u001b[1;32mIn[42], line 1\u001b[0m\n\u001b[1;32m----> 1\u001b[0m \u001b[43mtrain\u001b[49m\u001b[43m(\u001b[49m\u001b[43mpointnet\u001b[49m\u001b[43m,\u001b[49m\u001b[43m \u001b[49m\u001b[43mcriterion\u001b[49m\u001b[43m,\u001b[49m\u001b[43m \u001b[49m\u001b[43mtrain_loader\u001b[49m\u001b[43m,\u001b[49m\u001b[43m \u001b[49m\u001b[43mdevice\u001b[49m\u001b[43m,\u001b[49m\u001b[43m \u001b[49m\u001b[43mval_loader\u001b[49m\u001b[43m,\u001b[49m\u001b[43m \u001b[49m\u001b[38;5;241;43m5\u001b[39;49m\u001b[43m,\u001b[49m\u001b[43m \u001b[49m\u001b[38;5;28;43;01mTrue\u001b[39;49;00m\u001b[43m,\u001b[49m\u001b[43m \u001b[49m\u001b[43mmodel_weights_dir\u001b[49m\u001b[43m,\u001b[49m\u001b[43m \u001b[49m\u001b[43mlast_epoch\u001b[49m\u001b[38;5;241;43m=\u001b[39;49m\u001b[38;5;241;43m20\u001b[39;49m\u001b[43m)\u001b[49m\n",
      "Cell \u001b[1;32mIn[6], line 15\u001b[0m, in \u001b[0;36mtrain\u001b[1;34m(pointnet, criterion, train_loader, device, val_loader, epochs, save, save_location_dir, last_epoch)\u001b[0m\n\u001b[0;32m     12\u001b[0m outputs, m3x3, m64x64 \u001b[38;5;241m=\u001b[39m pointnet(inputs\u001b[38;5;241m.\u001b[39mtranspose(\u001b[38;5;241m1\u001b[39m,\u001b[38;5;241m2\u001b[39m))\n\u001b[0;32m     14\u001b[0m loss \u001b[38;5;241m=\u001b[39m pointnetloss(outputs, labels, m3x3, m64x64, criterion)\n\u001b[1;32m---> 15\u001b[0m \u001b[43mloss\u001b[49m\u001b[38;5;241;43m.\u001b[39;49m\u001b[43mbackward\u001b[49m\u001b[43m(\u001b[49m\u001b[43m)\u001b[49m\n\u001b[0;32m     16\u001b[0m optimizer\u001b[38;5;241m.\u001b[39mstep()\n\u001b[0;32m     18\u001b[0m running_loss \u001b[38;5;241m+\u001b[39m\u001b[38;5;241m=\u001b[39m loss\u001b[38;5;241m.\u001b[39mitem()\n",
      "File \u001b[1;32mc:\\Users\\ukuva\\AppData\\Local\\Programs\\Python\\Python313\\Lib\\site-packages\\torch\\_tensor.py:626\u001b[0m, in \u001b[0;36mTensor.backward\u001b[1;34m(self, gradient, retain_graph, create_graph, inputs)\u001b[0m\n\u001b[0;32m    616\u001b[0m \u001b[38;5;28;01mif\u001b[39;00m has_torch_function_unary(\u001b[38;5;28mself\u001b[39m):\n\u001b[0;32m    617\u001b[0m     \u001b[38;5;28;01mreturn\u001b[39;00m handle_torch_function(\n\u001b[0;32m    618\u001b[0m         Tensor\u001b[38;5;241m.\u001b[39mbackward,\n\u001b[0;32m    619\u001b[0m         (\u001b[38;5;28mself\u001b[39m,),\n\u001b[1;32m   (...)\u001b[0m\n\u001b[0;32m    624\u001b[0m         inputs\u001b[38;5;241m=\u001b[39minputs,\n\u001b[0;32m    625\u001b[0m     )\n\u001b[1;32m--> 626\u001b[0m \u001b[43mtorch\u001b[49m\u001b[38;5;241;43m.\u001b[39;49m\u001b[43mautograd\u001b[49m\u001b[38;5;241;43m.\u001b[39;49m\u001b[43mbackward\u001b[49m\u001b[43m(\u001b[49m\n\u001b[0;32m    627\u001b[0m \u001b[43m    \u001b[49m\u001b[38;5;28;43mself\u001b[39;49m\u001b[43m,\u001b[49m\u001b[43m \u001b[49m\u001b[43mgradient\u001b[49m\u001b[43m,\u001b[49m\u001b[43m \u001b[49m\u001b[43mretain_graph\u001b[49m\u001b[43m,\u001b[49m\u001b[43m \u001b[49m\u001b[43mcreate_graph\u001b[49m\u001b[43m,\u001b[49m\u001b[43m \u001b[49m\u001b[43minputs\u001b[49m\u001b[38;5;241;43m=\u001b[39;49m\u001b[43minputs\u001b[49m\n\u001b[0;32m    628\u001b[0m \u001b[43m\u001b[49m\u001b[43m)\u001b[49m\n",
      "File \u001b[1;32mc:\\Users\\ukuva\\AppData\\Local\\Programs\\Python\\Python313\\Lib\\site-packages\\torch\\autograd\\__init__.py:347\u001b[0m, in \u001b[0;36mbackward\u001b[1;34m(tensors, grad_tensors, retain_graph, create_graph, grad_variables, inputs)\u001b[0m\n\u001b[0;32m    342\u001b[0m     retain_graph \u001b[38;5;241m=\u001b[39m create_graph\n\u001b[0;32m    344\u001b[0m \u001b[38;5;66;03m# The reason we repeat the same comment below is that\u001b[39;00m\n\u001b[0;32m    345\u001b[0m \u001b[38;5;66;03m# some Python versions print out the first line of a multi-line function\u001b[39;00m\n\u001b[0;32m    346\u001b[0m \u001b[38;5;66;03m# calls in the traceback and some print out the last line\u001b[39;00m\n\u001b[1;32m--> 347\u001b[0m \u001b[43m_engine_run_backward\u001b[49m\u001b[43m(\u001b[49m\n\u001b[0;32m    348\u001b[0m \u001b[43m    \u001b[49m\u001b[43mtensors\u001b[49m\u001b[43m,\u001b[49m\n\u001b[0;32m    349\u001b[0m \u001b[43m    \u001b[49m\u001b[43mgrad_tensors_\u001b[49m\u001b[43m,\u001b[49m\n\u001b[0;32m    350\u001b[0m \u001b[43m    \u001b[49m\u001b[43mretain_graph\u001b[49m\u001b[43m,\u001b[49m\n\u001b[0;32m    351\u001b[0m \u001b[43m    \u001b[49m\u001b[43mcreate_graph\u001b[49m\u001b[43m,\u001b[49m\n\u001b[0;32m    352\u001b[0m \u001b[43m    \u001b[49m\u001b[43minputs\u001b[49m\u001b[43m,\u001b[49m\n\u001b[0;32m    353\u001b[0m \u001b[43m    \u001b[49m\u001b[43mallow_unreachable\u001b[49m\u001b[38;5;241;43m=\u001b[39;49m\u001b[38;5;28;43;01mTrue\u001b[39;49;00m\u001b[43m,\u001b[49m\n\u001b[0;32m    354\u001b[0m \u001b[43m    \u001b[49m\u001b[43maccumulate_grad\u001b[49m\u001b[38;5;241;43m=\u001b[39;49m\u001b[38;5;28;43;01mTrue\u001b[39;49;00m\u001b[43m,\u001b[49m\n\u001b[0;32m    355\u001b[0m \u001b[43m\u001b[49m\u001b[43m)\u001b[49m\n",
      "File \u001b[1;32mc:\\Users\\ukuva\\AppData\\Local\\Programs\\Python\\Python313\\Lib\\site-packages\\torch\\autograd\\graph.py:823\u001b[0m, in \u001b[0;36m_engine_run_backward\u001b[1;34m(t_outputs, *args, **kwargs)\u001b[0m\n\u001b[0;32m    821\u001b[0m     unregister_hooks \u001b[38;5;241m=\u001b[39m _register_logging_hooks_on_whole_graph(t_outputs)\n\u001b[0;32m    822\u001b[0m \u001b[38;5;28;01mtry\u001b[39;00m:\n\u001b[1;32m--> 823\u001b[0m     \u001b[38;5;28;01mreturn\u001b[39;00m \u001b[43mVariable\u001b[49m\u001b[38;5;241;43m.\u001b[39;49m\u001b[43m_execution_engine\u001b[49m\u001b[38;5;241;43m.\u001b[39;49m\u001b[43mrun_backward\u001b[49m\u001b[43m(\u001b[49m\u001b[43m  \u001b[49m\u001b[38;5;66;43;03m# Calls into the C++ engine to run the backward pass\u001b[39;49;00m\n\u001b[0;32m    824\u001b[0m \u001b[43m        \u001b[49m\u001b[43mt_outputs\u001b[49m\u001b[43m,\u001b[49m\u001b[43m \u001b[49m\u001b[38;5;241;43m*\u001b[39;49m\u001b[43margs\u001b[49m\u001b[43m,\u001b[49m\u001b[43m \u001b[49m\u001b[38;5;241;43m*\u001b[39;49m\u001b[38;5;241;43m*\u001b[39;49m\u001b[43mkwargs\u001b[49m\n\u001b[0;32m    825\u001b[0m \u001b[43m    \u001b[49m\u001b[43m)\u001b[49m  \u001b[38;5;66;03m# Calls into the C++ engine to run the backward pass\u001b[39;00m\n\u001b[0;32m    826\u001b[0m \u001b[38;5;28;01mfinally\u001b[39;00m:\n\u001b[0;32m    827\u001b[0m     \u001b[38;5;28;01mif\u001b[39;00m attach_logging_hooks:\n",
      "\u001b[1;31mRuntimeError\u001b[0m: CUDA error: the launch timed out and was terminated\nCUDA kernel errors might be asynchronously reported at some other API call, so the stacktrace below might be incorrect.\nFor debugging consider passing CUDA_LAUNCH_BLOCKING=1\nCompile with `TORCH_USE_CUDA_DSA` to enable device-side assertions.\n"
     ]
    }
   ],
   "source": [
    "train(pointnet, criterion, train_loader, device, val_loader, 5, True, model_weights_dir, last_epoch=20)"
   ]
  },
  {
   "cell_type": "markdown",
   "metadata": {},
   "source": [
    "Trained 5 epochs 796 minutes and 58 seconds."
   ]
  },
  {
   "cell_type": "markdown",
   "metadata": {},
   "source": [
    "### Evaluating the models"
   ]
  },
  {
   "cell_type": "markdown",
   "metadata": {},
   "source": [
    "Gathering model weights that were saved for each epoch"
   ]
  },
  {
   "cell_type": "code",
   "execution_count": 20,
   "metadata": {},
   "outputs": [
    {
     "data": {
      "text/plain": [
       "['save_epoch_10.pth',\n",
       " 'save_epoch_11.pth',\n",
       " 'save_epoch_12.pth',\n",
       " 'save_epoch_13.pth',\n",
       " 'save_epoch_14.pth',\n",
       " 'save_epoch_15.pth',\n",
       " 'save_epoch_16.pth',\n",
       " 'save_epoch_17.pth',\n",
       " 'save_epoch_18.pth',\n",
       " 'save_epoch_19.pth',\n",
       " 'save_epoch_2.pth',\n",
       " 'save_epoch_20.pth',\n",
       " 'save_epoch_3.pth',\n",
       " 'save_epoch_4.pth',\n",
       " 'save_epoch_5.pth',\n",
       " 'save_epoch_6.pth',\n",
       " 'save_epoch_7.pth',\n",
       " 'save_epoch_8.pth',\n",
       " 'save_epoch_9.pth']"
      ]
     },
     "execution_count": 20,
     "metadata": {},
     "output_type": "execute_result"
    }
   ],
   "source": [
    "model_weights = os.listdir(model_weights_dir)\n",
    "model_weights"
   ]
  },
  {
   "cell_type": "markdown",
   "metadata": {},
   "source": [
    "Choosing the last epoch model weights for PointNet"
   ]
  },
  {
   "cell_type": "code",
   "execution_count": 21,
   "metadata": {},
   "outputs": [],
   "source": [
    "# Recreate the model architecture\n",
    "model = PointNet(classes=2)  # Ensure the class arguments are the same as during training\n",
    "\n",
    "# Load the saved state_dict into the model\n",
    "model.load_state_dict(torch.load(os.path.join(model_weights_dir, model_weights[2]))) # Last epoch model weights\n",
    "\n",
    "# Move the model to the appropriate device and set it to evaluation mode\n",
    "model.to(device)\n",
    "model.eval();"
   ]
  },
  {
   "cell_type": "markdown",
   "metadata": {},
   "source": [
    "Evaluating trained PointNet on test data"
   ]
  },
  {
   "cell_type": "code",
   "execution_count": 22,
   "metadata": {},
   "outputs": [],
   "source": [
    "def evaluate_model(model, test_loader, device):\n",
    "    all_preds = []\n",
    "    all_labels = []\n",
    "    with torch.no_grad():\n",
    "        if device.type == \"cuda\":\n",
    "            for i, data in enumerate(test_loader):\n",
    "                if i % 10 == 9:\n",
    "                    print('Batch [%4d / %4d]' % (i+1, len(test_loader)))\n",
    "                inputs = data['pointcloud'].float().to(device)\n",
    "                labels = data['category'].to(device)\n",
    "                outputs, __, __ = pointnet(inputs.transpose(1,2))\n",
    "                _, preds = torch.max(outputs.data, 1)\n",
    "                all_preds += list(preds.cpu().numpy())  # Move the tensor to CPU and convert to numpy\n",
    "                all_labels += list(labels.cpu().numpy())  # Similarly, move labels to CPU\n",
    "        else:\n",
    "            for i, data in enumerate(test_loader):\n",
    "                if i % 10 == 9:\n",
    "                    print('Batch [%4d / %4d]' % (i+1, len(test_loader)))\n",
    "                inputs, labels = data['pointcloud'].float(), data['category']\n",
    "                outputs, __, __ = pointnet(inputs.transpose(1,2))\n",
    "                _, preds = torch.max(outputs.data, 1)\n",
    "                all_preds += list(preds.numpy())\n",
    "                all_labels += list(labels.numpy())\n",
    "    return all_labels, all_preds"
   ]
  },
  {
   "cell_type": "code",
   "execution_count": 23,
   "metadata": {},
   "outputs": [
    {
     "name": "stdout",
     "output_type": "stream",
     "text": [
      "Batch [  10 / 4470]\n",
      "Batch [  20 / 4470]\n",
      "Batch [  30 / 4470]\n",
      "Batch [  40 / 4470]\n",
      "Batch [  50 / 4470]\n",
      "Batch [  60 / 4470]\n",
      "Batch [  70 / 4470]\n",
      "Batch [  80 / 4470]\n",
      "Batch [  90 / 4470]\n",
      "Batch [ 100 / 4470]\n",
      "Batch [ 110 / 4470]\n",
      "Batch [ 120 / 4470]\n",
      "Batch [ 130 / 4470]\n",
      "Batch [ 140 / 4470]\n",
      "Batch [ 150 / 4470]\n",
      "Batch [ 160 / 4470]\n",
      "Batch [ 170 / 4470]\n",
      "Batch [ 180 / 4470]\n",
      "Batch [ 190 / 4470]\n",
      "Batch [ 200 / 4470]\n",
      "Batch [ 210 / 4470]\n",
      "Batch [ 220 / 4470]\n",
      "Batch [ 230 / 4470]\n",
      "Batch [ 240 / 4470]\n",
      "Batch [ 250 / 4470]\n",
      "Batch [ 260 / 4470]\n",
      "Batch [ 270 / 4470]\n",
      "Batch [ 280 / 4470]\n",
      "Batch [ 290 / 4470]\n",
      "Batch [ 300 / 4470]\n",
      "Batch [ 310 / 4470]\n",
      "Batch [ 320 / 4470]\n",
      "Batch [ 330 / 4470]\n",
      "Batch [ 340 / 4470]\n",
      "Batch [ 350 / 4470]\n",
      "Batch [ 360 / 4470]\n",
      "Batch [ 370 / 4470]\n",
      "Batch [ 380 / 4470]\n",
      "Batch [ 390 / 4470]\n",
      "Batch [ 400 / 4470]\n",
      "Batch [ 410 / 4470]\n",
      "Batch [ 420 / 4470]\n",
      "Batch [ 430 / 4470]\n",
      "Batch [ 440 / 4470]\n",
      "Batch [ 450 / 4470]\n",
      "Batch [ 460 / 4470]\n",
      "Batch [ 470 / 4470]\n",
      "Batch [ 480 / 4470]\n",
      "Batch [ 490 / 4470]\n",
      "Batch [ 500 / 4470]\n",
      "Batch [ 510 / 4470]\n",
      "Batch [ 520 / 4470]\n",
      "Batch [ 530 / 4470]\n",
      "Batch [ 540 / 4470]\n",
      "Batch [ 550 / 4470]\n",
      "Batch [ 560 / 4470]\n",
      "Batch [ 570 / 4470]\n",
      "Batch [ 580 / 4470]\n",
      "Batch [ 590 / 4470]\n",
      "Batch [ 600 / 4470]\n",
      "Batch [ 610 / 4470]\n",
      "Batch [ 620 / 4470]\n",
      "Batch [ 630 / 4470]\n",
      "Batch [ 640 / 4470]\n",
      "Batch [ 650 / 4470]\n",
      "Batch [ 660 / 4470]\n",
      "Batch [ 670 / 4470]\n",
      "Batch [ 680 / 4470]\n",
      "Batch [ 690 / 4470]\n",
      "Batch [ 700 / 4470]\n",
      "Batch [ 710 / 4470]\n",
      "Batch [ 720 / 4470]\n",
      "Batch [ 730 / 4470]\n",
      "Batch [ 740 / 4470]\n",
      "Batch [ 750 / 4470]\n",
      "Batch [ 760 / 4470]\n",
      "Batch [ 770 / 4470]\n",
      "Batch [ 780 / 4470]\n",
      "Batch [ 790 / 4470]\n",
      "Batch [ 800 / 4470]\n",
      "Batch [ 810 / 4470]\n",
      "Batch [ 820 / 4470]\n",
      "Batch [ 830 / 4470]\n",
      "Batch [ 840 / 4470]\n",
      "Batch [ 850 / 4470]\n",
      "Batch [ 860 / 4470]\n",
      "Batch [ 870 / 4470]\n",
      "Batch [ 880 / 4470]\n",
      "Batch [ 890 / 4470]\n",
      "Batch [ 900 / 4470]\n",
      "Batch [ 910 / 4470]\n",
      "Batch [ 920 / 4470]\n",
      "Batch [ 930 / 4470]\n",
      "Batch [ 940 / 4470]\n",
      "Batch [ 950 / 4470]\n",
      "Batch [ 960 / 4470]\n",
      "Batch [ 970 / 4470]\n",
      "Batch [ 980 / 4470]\n",
      "Batch [ 990 / 4470]\n",
      "Batch [1000 / 4470]\n",
      "Batch [1010 / 4470]\n",
      "Batch [1020 / 4470]\n",
      "Batch [1030 / 4470]\n",
      "Batch [1040 / 4470]\n",
      "Batch [1050 / 4470]\n",
      "Batch [1060 / 4470]\n",
      "Batch [1070 / 4470]\n",
      "Batch [1080 / 4470]\n",
      "Batch [1090 / 4470]\n",
      "Batch [1100 / 4470]\n",
      "Batch [1110 / 4470]\n",
      "Batch [1120 / 4470]\n",
      "Batch [1130 / 4470]\n",
      "Batch [1140 / 4470]\n",
      "Batch [1150 / 4470]\n",
      "Batch [1160 / 4470]\n",
      "Batch [1170 / 4470]\n",
      "Batch [1180 / 4470]\n",
      "Batch [1190 / 4470]\n",
      "Batch [1200 / 4470]\n",
      "Batch [1210 / 4470]\n",
      "Batch [1220 / 4470]\n",
      "Batch [1230 / 4470]\n",
      "Batch [1240 / 4470]\n",
      "Batch [1250 / 4470]\n",
      "Batch [1260 / 4470]\n",
      "Batch [1270 / 4470]\n",
      "Batch [1280 / 4470]\n",
      "Batch [1290 / 4470]\n",
      "Batch [1300 / 4470]\n",
      "Batch [1310 / 4470]\n",
      "Batch [1320 / 4470]\n",
      "Batch [1330 / 4470]\n",
      "Batch [1340 / 4470]\n",
      "Batch [1350 / 4470]\n",
      "Batch [1360 / 4470]\n",
      "Batch [1370 / 4470]\n",
      "Batch [1380 / 4470]\n",
      "Batch [1390 / 4470]\n",
      "Batch [1400 / 4470]\n",
      "Batch [1410 / 4470]\n",
      "Batch [1420 / 4470]\n",
      "Batch [1430 / 4470]\n",
      "Batch [1440 / 4470]\n",
      "Batch [1450 / 4470]\n",
      "Batch [1460 / 4470]\n",
      "Batch [1470 / 4470]\n",
      "Batch [1480 / 4470]\n",
      "Batch [1490 / 4470]\n",
      "Batch [1500 / 4470]\n",
      "Batch [1510 / 4470]\n",
      "Batch [1520 / 4470]\n",
      "Batch [1530 / 4470]\n",
      "Batch [1540 / 4470]\n",
      "Batch [1550 / 4470]\n",
      "Batch [1560 / 4470]\n",
      "Batch [1570 / 4470]\n",
      "Batch [1580 / 4470]\n",
      "Batch [1590 / 4470]\n",
      "Batch [1600 / 4470]\n",
      "Batch [1610 / 4470]\n",
      "Batch [1620 / 4470]\n",
      "Batch [1630 / 4470]\n",
      "Batch [1640 / 4470]\n",
      "Batch [1650 / 4470]\n",
      "Batch [1660 / 4470]\n",
      "Batch [1670 / 4470]\n",
      "Batch [1680 / 4470]\n",
      "Batch [1690 / 4470]\n",
      "Batch [1700 / 4470]\n",
      "Batch [1710 / 4470]\n",
      "Batch [1720 / 4470]\n",
      "Batch [1730 / 4470]\n",
      "Batch [1740 / 4470]\n",
      "Batch [1750 / 4470]\n",
      "Batch [1760 / 4470]\n",
      "Batch [1770 / 4470]\n",
      "Batch [1780 / 4470]\n",
      "Batch [1790 / 4470]\n",
      "Batch [1800 / 4470]\n",
      "Batch [1810 / 4470]\n",
      "Batch [1820 / 4470]\n",
      "Batch [1830 / 4470]\n",
      "Batch [1840 / 4470]\n",
      "Batch [1850 / 4470]\n",
      "Batch [1860 / 4470]\n",
      "Batch [1870 / 4470]\n",
      "Batch [1880 / 4470]\n",
      "Batch [1890 / 4470]\n",
      "Batch [1900 / 4470]\n",
      "Batch [1910 / 4470]\n",
      "Batch [1920 / 4470]\n",
      "Batch [1930 / 4470]\n",
      "Batch [1940 / 4470]\n",
      "Batch [1950 / 4470]\n",
      "Batch [1960 / 4470]\n",
      "Batch [1970 / 4470]\n",
      "Batch [1980 / 4470]\n",
      "Batch [1990 / 4470]\n",
      "Batch [2000 / 4470]\n",
      "Batch [2010 / 4470]\n",
      "Batch [2020 / 4470]\n",
      "Batch [2030 / 4470]\n",
      "Batch [2040 / 4470]\n",
      "Batch [2050 / 4470]\n",
      "Batch [2060 / 4470]\n",
      "Batch [2070 / 4470]\n",
      "Batch [2080 / 4470]\n",
      "Batch [2090 / 4470]\n",
      "Batch [2100 / 4470]\n",
      "Batch [2110 / 4470]\n",
      "Batch [2120 / 4470]\n",
      "Batch [2130 / 4470]\n",
      "Batch [2140 / 4470]\n",
      "Batch [2150 / 4470]\n",
      "Batch [2160 / 4470]\n",
      "Batch [2170 / 4470]\n",
      "Batch [2180 / 4470]\n",
      "Batch [2190 / 4470]\n",
      "Batch [2200 / 4470]\n",
      "Batch [2210 / 4470]\n",
      "Batch [2220 / 4470]\n",
      "Batch [2230 / 4470]\n",
      "Batch [2240 / 4470]\n",
      "Batch [2250 / 4470]\n",
      "Batch [2260 / 4470]\n",
      "Batch [2270 / 4470]\n",
      "Batch [2280 / 4470]\n",
      "Batch [2290 / 4470]\n",
      "Batch [2300 / 4470]\n",
      "Batch [2310 / 4470]\n",
      "Batch [2320 / 4470]\n",
      "Batch [2330 / 4470]\n",
      "Batch [2340 / 4470]\n",
      "Batch [2350 / 4470]\n",
      "Batch [2360 / 4470]\n",
      "Batch [2370 / 4470]\n",
      "Batch [2380 / 4470]\n",
      "Batch [2390 / 4470]\n",
      "Batch [2400 / 4470]\n",
      "Batch [2410 / 4470]\n",
      "Batch [2420 / 4470]\n",
      "Batch [2430 / 4470]\n",
      "Batch [2440 / 4470]\n",
      "Batch [2450 / 4470]\n",
      "Batch [2460 / 4470]\n",
      "Batch [2470 / 4470]\n",
      "Batch [2480 / 4470]\n",
      "Batch [2490 / 4470]\n",
      "Batch [2500 / 4470]\n",
      "Batch [2510 / 4470]\n",
      "Batch [2520 / 4470]\n",
      "Batch [2530 / 4470]\n",
      "Batch [2540 / 4470]\n",
      "Batch [2550 / 4470]\n",
      "Batch [2560 / 4470]\n",
      "Batch [2570 / 4470]\n",
      "Batch [2580 / 4470]\n",
      "Batch [2590 / 4470]\n",
      "Batch [2600 / 4470]\n",
      "Batch [2610 / 4470]\n",
      "Batch [2620 / 4470]\n",
      "Batch [2630 / 4470]\n",
      "Batch [2640 / 4470]\n",
      "Batch [2650 / 4470]\n",
      "Batch [2660 / 4470]\n",
      "Batch [2670 / 4470]\n",
      "Batch [2680 / 4470]\n",
      "Batch [2690 / 4470]\n",
      "Batch [2700 / 4470]\n",
      "Batch [2710 / 4470]\n",
      "Batch [2720 / 4470]\n",
      "Batch [2730 / 4470]\n",
      "Batch [2740 / 4470]\n",
      "Batch [2750 / 4470]\n",
      "Batch [2760 / 4470]\n",
      "Batch [2770 / 4470]\n",
      "Batch [2780 / 4470]\n",
      "Batch [2790 / 4470]\n",
      "Batch [2800 / 4470]\n",
      "Batch [2810 / 4470]\n",
      "Batch [2820 / 4470]\n",
      "Batch [2830 / 4470]\n",
      "Batch [2840 / 4470]\n",
      "Batch [2850 / 4470]\n",
      "Batch [2860 / 4470]\n",
      "Batch [2870 / 4470]\n",
      "Batch [2880 / 4470]\n",
      "Batch [2890 / 4470]\n",
      "Batch [2900 / 4470]\n",
      "Batch [2910 / 4470]\n",
      "Batch [2920 / 4470]\n",
      "Batch [2930 / 4470]\n",
      "Batch [2940 / 4470]\n",
      "Batch [2950 / 4470]\n",
      "Batch [2960 / 4470]\n",
      "Batch [2970 / 4470]\n",
      "Batch [2980 / 4470]\n",
      "Batch [2990 / 4470]\n",
      "Batch [3000 / 4470]\n",
      "Batch [3010 / 4470]\n",
      "Batch [3020 / 4470]\n",
      "Batch [3030 / 4470]\n",
      "Batch [3040 / 4470]\n",
      "Batch [3050 / 4470]\n",
      "Batch [3060 / 4470]\n",
      "Batch [3070 / 4470]\n",
      "Batch [3080 / 4470]\n",
      "Batch [3090 / 4470]\n",
      "Batch [3100 / 4470]\n",
      "Batch [3110 / 4470]\n",
      "Batch [3120 / 4470]\n",
      "Batch [3130 / 4470]\n",
      "Batch [3140 / 4470]\n",
      "Batch [3150 / 4470]\n",
      "Batch [3160 / 4470]\n",
      "Batch [3170 / 4470]\n",
      "Batch [3180 / 4470]\n",
      "Batch [3190 / 4470]\n",
      "Batch [3200 / 4470]\n",
      "Batch [3210 / 4470]\n",
      "Batch [3220 / 4470]\n",
      "Batch [3230 / 4470]\n",
      "Batch [3240 / 4470]\n",
      "Batch [3250 / 4470]\n",
      "Batch [3260 / 4470]\n",
      "Batch [3270 / 4470]\n",
      "Batch [3280 / 4470]\n",
      "Batch [3290 / 4470]\n",
      "Batch [3300 / 4470]\n",
      "Batch [3310 / 4470]\n",
      "Batch [3320 / 4470]\n",
      "Batch [3330 / 4470]\n",
      "Batch [3340 / 4470]\n",
      "Batch [3350 / 4470]\n",
      "Batch [3360 / 4470]\n",
      "Batch [3370 / 4470]\n",
      "Batch [3380 / 4470]\n",
      "Batch [3390 / 4470]\n",
      "Batch [3400 / 4470]\n",
      "Batch [3410 / 4470]\n",
      "Batch [3420 / 4470]\n",
      "Batch [3430 / 4470]\n",
      "Batch [3440 / 4470]\n",
      "Batch [3450 / 4470]\n",
      "Batch [3460 / 4470]\n",
      "Batch [3470 / 4470]\n",
      "Batch [3480 / 4470]\n",
      "Batch [3490 / 4470]\n",
      "Batch [3500 / 4470]\n",
      "Batch [3510 / 4470]\n",
      "Batch [3520 / 4470]\n",
      "Batch [3530 / 4470]\n",
      "Batch [3540 / 4470]\n",
      "Batch [3550 / 4470]\n",
      "Batch [3560 / 4470]\n",
      "Batch [3570 / 4470]\n",
      "Batch [3580 / 4470]\n",
      "Batch [3590 / 4470]\n",
      "Batch [3600 / 4470]\n",
      "Batch [3610 / 4470]\n",
      "Batch [3620 / 4470]\n",
      "Batch [3630 / 4470]\n",
      "Batch [3640 / 4470]\n",
      "Batch [3650 / 4470]\n",
      "Batch [3660 / 4470]\n",
      "Batch [3670 / 4470]\n",
      "Batch [3680 / 4470]\n",
      "Batch [3690 / 4470]\n",
      "Batch [3700 / 4470]\n",
      "Batch [3710 / 4470]\n",
      "Batch [3720 / 4470]\n",
      "Batch [3730 / 4470]\n",
      "Batch [3740 / 4470]\n",
      "Batch [3750 / 4470]\n",
      "Batch [3760 / 4470]\n",
      "Batch [3770 / 4470]\n",
      "Batch [3780 / 4470]\n",
      "Batch [3790 / 4470]\n",
      "Batch [3800 / 4470]\n",
      "Batch [3810 / 4470]\n",
      "Batch [3820 / 4470]\n",
      "Batch [3830 / 4470]\n",
      "Batch [3840 / 4470]\n",
      "Batch [3850 / 4470]\n",
      "Batch [3860 / 4470]\n",
      "Batch [3870 / 4470]\n",
      "Batch [3880 / 4470]\n",
      "Batch [3890 / 4470]\n",
      "Batch [3900 / 4470]\n",
      "Batch [3910 / 4470]\n",
      "Batch [3920 / 4470]\n",
      "Batch [3930 / 4470]\n",
      "Batch [3940 / 4470]\n",
      "Batch [3950 / 4470]\n",
      "Batch [3960 / 4470]\n",
      "Batch [3970 / 4470]\n",
      "Batch [3980 / 4470]\n",
      "Batch [3990 / 4470]\n",
      "Batch [4000 / 4470]\n",
      "Batch [4010 / 4470]\n",
      "Batch [4020 / 4470]\n",
      "Batch [4030 / 4470]\n",
      "Batch [4040 / 4470]\n",
      "Batch [4050 / 4470]\n",
      "Batch [4060 / 4470]\n",
      "Batch [4070 / 4470]\n",
      "Batch [4080 / 4470]\n",
      "Batch [4090 / 4470]\n",
      "Batch [4100 / 4470]\n",
      "Batch [4110 / 4470]\n",
      "Batch [4120 / 4470]\n",
      "Batch [4130 / 4470]\n",
      "Batch [4140 / 4470]\n",
      "Batch [4150 / 4470]\n",
      "Batch [4160 / 4470]\n",
      "Batch [4170 / 4470]\n",
      "Batch [4180 / 4470]\n",
      "Batch [4190 / 4470]\n",
      "Batch [4200 / 4470]\n",
      "Batch [4210 / 4470]\n",
      "Batch [4220 / 4470]\n",
      "Batch [4230 / 4470]\n",
      "Batch [4240 / 4470]\n",
      "Batch [4250 / 4470]\n",
      "Batch [4260 / 4470]\n",
      "Batch [4270 / 4470]\n",
      "Batch [4280 / 4470]\n",
      "Batch [4290 / 4470]\n",
      "Batch [4300 / 4470]\n",
      "Batch [4310 / 4470]\n",
      "Batch [4320 / 4470]\n",
      "Batch [4330 / 4470]\n",
      "Batch [4340 / 4470]\n",
      "Batch [4350 / 4470]\n",
      "Batch [4360 / 4470]\n",
      "Batch [4370 / 4470]\n",
      "Batch [4380 / 4470]\n",
      "Batch [4390 / 4470]\n",
      "Batch [4400 / 4470]\n",
      "Batch [4410 / 4470]\n",
      "Batch [4420 / 4470]\n",
      "Batch [4430 / 4470]\n",
      "Batch [4440 / 4470]\n",
      "Batch [4450 / 4470]\n",
      "Batch [4460 / 4470]\n",
      "Batch [4470 / 4470]\n"
     ]
    }
   ],
   "source": [
    "all_labels, all_preds = evaluate_model(model, test_loader, device)"
   ]
  },
  {
   "cell_type": "markdown",
   "metadata": {},
   "source": [
    "Saving results"
   ]
  },
  {
   "cell_type": "code",
   "execution_count": 24,
   "metadata": {},
   "outputs": [],
   "source": [
    "xyz = test_loader.dataset.xyz.numpy()  # Coordinates (Nx3 array)\n",
    "labels = test_loader.dataset.labels.numpy()  # Ground truth labels (N array)\n",
    "preds = np.array(all_preds)  # Predictions (N array)\n",
    "\n",
    "data_df = pd.DataFrame({\n",
    "    'x': xyz[:, 0],  # Extract x-coordinate\n",
    "    'y': xyz[:, 1],  # Extract y-coordinate\n",
    "    'z': xyz[:, 2],  # Extract z-coordinate\n",
    "    'true_label': labels,  # Ground truth labels\n",
    "    'pred_label': preds,   # Predicted labels\n",
    "})\n",
    "\n",
    "data_df.to_parquet('../data/test_results.parquet', engine='pyarrow', index=False)"
   ]
  },
  {
   "cell_type": "markdown",
   "metadata": {},
   "source": [
    "### Results"
   ]
  },
  {
   "cell_type": "code",
   "execution_count": 25,
   "metadata": {},
   "outputs": [
    {
     "name": "stdout",
     "output_type": "stream",
     "text": [
      "              precision    recall  f1-score   support\n",
      "\n",
      "           0       0.99      0.80      0.88    565104\n",
      "           1       0.02      0.32      0.04      6984\n",
      "\n",
      "    accuracy                           0.79    572088\n",
      "   macro avg       0.50      0.56      0.46    572088\n",
      "weighted avg       0.98      0.79      0.87    572088\n",
      "\n"
     ]
    }
   ],
   "source": [
    "print(classification_report(all_labels, all_preds))"
   ]
  },
  {
   "cell_type": "code",
   "execution_count": 26,
   "metadata": {},
   "outputs": [
    {
     "data": {
      "text/plain": [
       "array([[451103, 114001],\n",
       "       [  4733,   2251]])"
      ]
     },
     "execution_count": 26,
     "metadata": {},
     "output_type": "execute_result"
    }
   ],
   "source": [
    "cm = confusion_matrix(all_labels, all_preds);\n",
    "cm"
   ]
  },
  {
   "cell_type": "markdown",
   "metadata": {},
   "source": [
    "A lot of Type I errors, which means that the model couldn't get the spatial context of the hillfort in the downsampled data."
   ]
  },
  {
   "cell_type": "markdown",
   "metadata": {},
   "source": [
    "Confusion matrixes"
   ]
  },
  {
   "cell_type": "code",
   "execution_count": 27,
   "metadata": {},
   "outputs": [],
   "source": [
    "# function from https://deeplizard.com/learn/video/0LhiS6yu2qQ\n",
    "def plot_confusion_matrix(cm, classes, normalize=False, title='Confusion matrix', cmap=plt.cm.Blues):\n",
    "    if normalize:\n",
    "        cm = cm.astype('float') / cm.sum(axis=1)[:, np.newaxis]\n",
    "        print(\"Normalized confusion matrix\")\n",
    "    else:\n",
    "        print('Confusion matrix, without normalization')\n",
    "\n",
    "    plt.imshow(cm, interpolation='nearest', cmap=cmap)\n",
    "    plt.title(title)\n",
    "    plt.colorbar()\n",
    "    tick_marks = np.arange(len(classes))\n",
    "    plt.xticks(tick_marks, classes, rotation=45)\n",
    "    plt.yticks(tick_marks, classes)\n",
    "\n",
    "    fmt = '.2f' if normalize else 'd'\n",
    "    thresh = cm.max() / 2.\n",
    "    for i, j in itertools.product(range(cm.shape[0]), range(cm.shape[1])):\n",
    "        plt.text(j, i, format(cm[i, j], fmt), horizontalalignment=\"center\", color=\"white\" if cm[i, j] > thresh else \"black\")\n",
    "\n",
    "    plt.tight_layout()\n",
    "    plt.ylabel('True label')\n",
    "    plt.xlabel('Predicted label')"
   ]
  },
  {
   "cell_type": "code",
   "execution_count": 28,
   "metadata": {},
   "outputs": [],
   "source": [
    "classes = {\n",
    "    0: \"Not Hillfort\",\n",
    "    1: \"Hillfort\"\n",
    "}"
   ]
  },
  {
   "cell_type": "code",
   "execution_count": 29,
   "metadata": {},
   "outputs": [
    {
     "name": "stdout",
     "output_type": "stream",
     "text": [
      "Normalized confusion matrix\n"
     ]
    },
    {
     "data": {
      "image/png": "[encoded data removed]",
      "text/plain": [
       "<Figure size 800x800 with 2 Axes>"
      ]
     },
     "metadata": {},
     "output_type": "display_data"
    }
   ],
   "source": [
    "plt.figure(figsize=(8,8))\n",
    "plot_confusion_matrix(cm, list(classes.keys()), normalize=True)"
   ]
  },
  {
   "cell_type": "code",
   "execution_count": 30,
   "metadata": {},
   "outputs": [
    {
     "name": "stdout",
     "output_type": "stream",
     "text": [
      "Confusion matrix, without normalization\n"
     ]
    },
    {
     "data": {
      "image/png": "[encoded data removed]",
      "text/plain": [
       "<Figure size 800x800 with 2 Axes>"
      ]
     },
     "metadata": {},
     "output_type": "display_data"
    }
   ],
   "source": [
    "plt.figure(figsize=(8,8))\n",
    "plot_confusion_matrix(cm, list(classes.keys()), normalize=False)"
   ]
  },
  {
   "cell_type": "markdown",
   "metadata": {},
   "source": [
    "Testing on lidar data that has hills or dumpsite, but no hillforts"
   ]
  },
  {
   "cell_type": "code",
   "execution_count": 32,
   "metadata": {},
   "outputs": [],
   "source": [
    "test_lases = os.listdir('../data/downsampled_class_lazFiles/')"
   ]
  },
  {
   "cell_type": "code",
   "execution_count": 33,
   "metadata": {},
   "outputs": [],
   "source": [
    "X_test_2, y_test_2 = [], []\n",
    "for las_file in test_lases:\n",
    "    las = laspy.read(os.path.join('../data/downsampled_class_lazFiles/', las_file))\n",
    "    xyz = las.xyz\n",
    "    labels = np.zeros(len(xyz))  # Hillfort class\n",
    "    X_test_2.append(xyz)\n",
    "    y_test_2.append(labels)\n",
    "X_testing = np.vstack(X_test_2)\n",
    "y_testing = np.concatenate(y_test_2)"
   ]
  },
  {
   "cell_type": "code",
   "execution_count": 34,
   "metadata": {},
   "outputs": [
    {
     "name": "stdout",
     "output_type": "stream",
     "text": [
      "(2758513, 3)\n",
      "(2758513,)\n"
     ]
    }
   ],
   "source": [
    "print(X_testing.shape)\n",
    "print(y_testing.shape)"
   ]
  },
  {
   "cell_type": "code",
   "execution_count": 35,
   "metadata": {},
   "outputs": [],
   "source": [
    "testing_X = torch.from_numpy(X_testing)\n",
    "testing_y = torch.from_numpy(y_testing).long()"
   ]
  },
  {
   "cell_type": "markdown",
   "metadata": {},
   "source": [
    "Setting up splits for model"
   ]
  },
  {
   "cell_type": "code",
   "execution_count": 36,
   "metadata": {},
   "outputs": [],
   "source": [
    "testing_dataset = PointCloudDataset(testing_X, testing_y)"
   ]
  },
  {
   "cell_type": "code",
   "execution_count": 37,
   "metadata": {},
   "outputs": [],
   "source": [
    "testing_loader = DataLoader(testing_dataset, batch_size=128, shuffle=True)"
   ]
  },
  {
   "cell_type": "code",
   "execution_count": 38,
   "metadata": {},
   "outputs": [
    {
     "name": "stdout",
     "output_type": "stream",
     "text": [
      "Batch [  10 / 21551]\n",
      "Batch [  20 / 21551]\n",
      "Batch [  30 / 21551]\n",
      "Batch [  40 / 21551]\n",
      "Batch [  50 / 21551]\n",
      "Batch [  60 / 21551]\n",
      "Batch [  70 / 21551]\n"
     ]
    },
    {
     "ename": "KeyboardInterrupt",
     "evalue": "",
     "output_type": "error",
     "traceback": [
      "\u001b[1;31m---------------------------------------------------------------------------\u001b[0m",
      "\u001b[1;31mKeyboardInterrupt\u001b[0m                         Traceback (most recent call last)",
      "Cell \u001b[1;32mIn[38], line 1\u001b[0m\n\u001b[1;32m----> 1\u001b[0m all_labels_test, all_preds_test \u001b[38;5;241m=\u001b[39m \u001b[43mevaluate_model\u001b[49m\u001b[43m(\u001b[49m\u001b[43mmodel\u001b[49m\u001b[43m,\u001b[49m\u001b[43m \u001b[49m\u001b[43mtesting_loader\u001b[49m\u001b[43m,\u001b[49m\u001b[43m \u001b[49m\u001b[43mdevice\u001b[49m\u001b[43m)\u001b[49m\n",
      "Cell \u001b[1;32mIn[22], line 13\u001b[0m, in \u001b[0;36mevaluate_model\u001b[1;34m(model, test_loader, device)\u001b[0m\n\u001b[0;32m     11\u001b[0m         outputs, __, __ \u001b[38;5;241m=\u001b[39m pointnet(inputs\u001b[38;5;241m.\u001b[39mtranspose(\u001b[38;5;241m1\u001b[39m,\u001b[38;5;241m2\u001b[39m))\n\u001b[0;32m     12\u001b[0m         _, preds \u001b[38;5;241m=\u001b[39m torch\u001b[38;5;241m.\u001b[39mmax(outputs\u001b[38;5;241m.\u001b[39mdata, \u001b[38;5;241m1\u001b[39m)\n\u001b[1;32m---> 13\u001b[0m         all_preds \u001b[38;5;241m+\u001b[39m\u001b[38;5;241m=\u001b[39m \u001b[38;5;28mlist\u001b[39m(\u001b[43mpreds\u001b[49m\u001b[38;5;241;43m.\u001b[39;49m\u001b[43mcpu\u001b[49m\u001b[43m(\u001b[49m\u001b[43m)\u001b[49m\u001b[38;5;241m.\u001b[39mnumpy())  \u001b[38;5;66;03m# Move the tensor to CPU and convert to numpy\u001b[39;00m\n\u001b[0;32m     14\u001b[0m         all_labels \u001b[38;5;241m+\u001b[39m\u001b[38;5;241m=\u001b[39m \u001b[38;5;28mlist\u001b[39m(labels\u001b[38;5;241m.\u001b[39mcpu()\u001b[38;5;241m.\u001b[39mnumpy())  \u001b[38;5;66;03m# Similarly, move labels to CPU\u001b[39;00m\n\u001b[0;32m     15\u001b[0m \u001b[38;5;28;01melse\u001b[39;00m:\n",
      "\u001b[1;31mKeyboardInterrupt\u001b[0m: "
     ]
    }
   ],
   "source": [
    "all_labels_test, all_preds_test = evaluate_model(model, testing_loader, device)"
   ]
  },
  {
   "cell_type": "code",
   "execution_count": 128,
   "metadata": {},
   "outputs": [],
   "source": [
    "xyz = testing_loader.dataset.xyz.numpy()  # Coordinates (Nx3 array)\n",
    "labels = testing_loader.dataset.labels.numpy()  # Ground truth labels (N array)\n",
    "preds = np.array(all_preds_test)  # Predictions (N array)\n",
    "\n",
    "data_df = pd.DataFrame({\n",
    "    'x': xyz[:, 0],  # Extract x-coordinate\n",
    "    'y': xyz[:, 1],  # Extract y-coordinate\n",
    "    'z': xyz[:, 2],  # Extract z-coordinate\n",
    "    'true_label': labels,  # Ground truth labels\n",
    "    'pred_label': preds,   # Predicted labels\n",
    "})\n",
    "\n",
    "data_df.to_parquet('../data/test_results_2.parquet', engine='pyarrow', index=False)"
   ]
  },
  {
   "cell_type": "code",
   "execution_count": 127,
   "metadata": {},
   "outputs": [
    {
     "data": {
      "text/plain": [
       "array([[388875, 136742],\n",
       "       [     0,      0]], dtype=int64)"
      ]
     },
     "execution_count": 127,
     "metadata": {},
     "output_type": "execute_result"
    }
   ],
   "source": [
    "cm_test = confusion_matrix(all_labels_test, all_preds_test);\n",
    "cm_test"
   ]
  },
  {
   "cell_type": "markdown",
   "metadata": {},
   "source": [
    "A huge amount of Type I errors, which means that the model couldn't get the spatial context of the hillfort in the downsampled data."
   ]
  },
  {
   "cell_type": "markdown",
   "metadata": {},
   "source": [
    "## End"
   ]
  }
 ],
 "metadata": {
  "kernelspec": {
   "display_name": "Python 3",
   "language": "python",
   "name": "python3"
  },
  "language_info": {
   "codemirror_mode": {
    "name": "ipython",
    "version": 3
   },
   "file_extension": ".py",
   "mimetype": "text/x-python",
   "name": "python",
   "nbconvert_exporter": "python",
   "pygments_lexer": "ipython3",
   "version": "3.13.2"
  }
 },
 "nbformat": 4,
 "nbformat_minor": 2
}
