{
 "cells": [
  {
   "cell_type": "markdown",
   "metadata": {},
   "source": [
    "# Hillfort detection with LiDAR data\n",
    "## Data management"
   ]
  },
  {
   "cell_type": "markdown",
   "metadata": {},
   "source": [
    "## Table of contents\n",
    "\n",
    "[Code](#code)\n",
    "\n",
    "1. [**Initializing and training the model**](#initializing-and-training-the-model)\n",
    "2. [**Evaluating the model**](#evaluating-the-model)\n",
    "3. [**Hyperparameter tuning**](#hyperparameter-tuning)\n",
    "4. [**Results**](#results)\n",
    "\n",
    "[End](#end)"
   ]
  },
  {
   "cell_type": "markdown",
   "metadata": {},
   "source": [
    "## Code"
   ]
  },
  {
   "cell_type": "markdown",
   "metadata": {},
   "source": [
    "### Defined functions"
   ]
  },
  {
   "cell_type": "code",
   "execution_count": 143,
   "metadata": {},
   "outputs": [],
   "source": [
    "# Imports\n",
    "# Imports\n",
    "import os\n",
    "# import re\n",
    "# import csv\n",
    "# import typing\n",
    "import itertools\n",
    "# import json\n",
    "import logging\n",
    "import zipfile\n",
    "# import warnings\n",
    "# import evaluate\n",
    "# import types\n",
    "import pandas as pd\n",
    "import sklearn as sk\n",
    "import numpy as np\n",
    "import torch\n",
    "# import math\n",
    "import shapely\n",
    "import matplotlib.pyplot as plt\n",
    "import laspy # Reading LAS file format\n",
    "from tqdm import tqdm # Loading bars\n",
    "import geopandas as gpd\n",
    "import torch\n",
    "import torch.nn as nn\n",
    "import torch.nn.functional as F\n",
    "from torch.utils.data import Dataset, DataLoader\n",
    "from sklearn.metrics import confusion_matrix"
   ]
  },
  {
   "cell_type": "markdown",
   "metadata": {},
   "source": [
    "The model setup has been copied from Nikita Karaev's Google Colab [PointNetClass](https://colab.research.google.com/github/nikitakaraevv/pointnet/blob/master/nbs/PointNetClass.ipynb#scrollTo=ZV20opgrv23I). Criterion has been customized."
   ]
  },
  {
   "cell_type": "code",
   "execution_count": 144,
   "metadata": {},
   "outputs": [],
   "source": [
    "class Tnet(nn.Module):\n",
    "   def __init__(self, k=3):\n",
    "      super().__init__()\n",
    "      self.k=k\n",
    "      self.conv1 = nn.Conv1d(k,64,1)\n",
    "      self.conv2 = nn.Conv1d(64,128,1)\n",
    "      self.conv3 = nn.Conv1d(128,1024,1)\n",
    "      self.fc1 = nn.Linear(1024,512)\n",
    "      self.fc2 = nn.Linear(512,256)\n",
    "      self.fc3 = nn.Linear(256,k*k)\n",
    "\n",
    "      self.bn1 = nn.BatchNorm1d(64)\n",
    "      self.bn2 = nn.BatchNorm1d(128)\n",
    "      self.bn3 = nn.BatchNorm1d(1024)\n",
    "      self.bn4 = nn.BatchNorm1d(512)\n",
    "      self.bn5 = nn.BatchNorm1d(256)\n",
    "       \n",
    "\n",
    "   def forward(self, input):\n",
    "      # input.shape == (bs,n,3)\n",
    "      bs = input.size(0)\n",
    "      xb = F.relu(self.bn1(self.conv1(input)))\n",
    "      xb = F.relu(self.bn2(self.conv2(xb)))\n",
    "      xb = F.relu(self.bn3(self.conv3(xb)))\n",
    "      pool = nn.MaxPool1d(xb.size(-1))(xb)\n",
    "      flat = nn.Flatten(1)(pool)\n",
    "      xb = F.relu(self.bn4(self.fc1(flat)))\n",
    "      xb = F.relu(self.bn5(self.fc2(xb)))\n",
    "      \n",
    "      #initialize as identity\n",
    "      init = torch.eye(self.k, requires_grad=True).repeat(bs,1,1)\n",
    "      if xb.is_cuda:\n",
    "        init=init.cuda()\n",
    "      matrix = self.fc3(xb).view(-1,self.k,self.k) + init\n",
    "      return matrix\n",
    "\n",
    "\n",
    "class Transform(nn.Module):\n",
    "   def __init__(self):\n",
    "        super().__init__()\n",
    "        self.input_transform = Tnet(k=3)\n",
    "        self.feature_transform = Tnet(k=64)\n",
    "        self.conv1 = nn.Conv1d(3,64,1)\n",
    "\n",
    "        self.conv2 = nn.Conv1d(64,128,1)\n",
    "        self.conv3 = nn.Conv1d(128,1024,1)\n",
    "       \n",
    "\n",
    "        self.bn1 = nn.BatchNorm1d(64)\n",
    "        self.bn2 = nn.BatchNorm1d(128)\n",
    "        self.bn3 = nn.BatchNorm1d(1024)\n",
    "       \n",
    "   def forward(self, input):\n",
    "        matrix3x3 = self.input_transform(input)\n",
    "        # batch matrix multiplication\n",
    "        xb = torch.bmm(torch.transpose(input,1,2), matrix3x3).transpose(1,2)\n",
    "\n",
    "        xb = F.relu(self.bn1(self.conv1(xb)))\n",
    "\n",
    "        matrix64x64 = self.feature_transform(xb)\n",
    "        xb = torch.bmm(torch.transpose(xb,1,2), matrix64x64).transpose(1,2)\n",
    "\n",
    "        xb = F.relu(self.bn2(self.conv2(xb)))\n",
    "        xb = self.bn3(self.conv3(xb))\n",
    "        xb = nn.MaxPool1d(xb.size(-1))(xb)\n",
    "        output = nn.Flatten(1)(xb)\n",
    "        return output, matrix3x3, matrix64x64\n",
    "\n",
    "class PointNet(nn.Module):\n",
    "    def __init__(self, classes = 10):\n",
    "        super().__init__()\n",
    "        self.transform = Transform()\n",
    "        self.fc1 = nn.Linear(1024, 512)\n",
    "        self.fc2 = nn.Linear(512, 256)\n",
    "        self.fc3 = nn.Linear(256, classes)\n",
    "        \n",
    "\n",
    "        self.bn1 = nn.BatchNorm1d(512)\n",
    "        self.bn2 = nn.BatchNorm1d(256)\n",
    "        self.dropout = nn.Dropout(p=0.3)\n",
    "        self.logsoftmax = nn.LogSoftmax(dim=1)\n",
    "\n",
    "    def forward(self, input):\n",
    "        xb, matrix3x3, matrix64x64 = self.transform(input)\n",
    "        xb = F.relu(self.bn1(self.fc1(xb)))\n",
    "        xb = F.relu(self.bn2(self.dropout(self.fc2(xb))))\n",
    "        output = self.fc3(xb)\n",
    "        return self.logsoftmax(output), matrix3x3, matrix64x64"
   ]
  },
  {
   "cell_type": "code",
   "execution_count": 145,
   "metadata": {},
   "outputs": [],
   "source": [
    "class PointCloudDataset(Dataset):\n",
    "    def __init__(self, xyz, labels, num_points=1024):\n",
    "        self.xyz = xyz\n",
    "        self.labels = labels\n",
    "        self.num_points = num_points\n",
    "\n",
    "    def __len__(self):\n",
    "        return len(self.xyz)  # Number of point clouds in the dataset\n",
    "\n",
    "    def __getitem__(self, idx):\n",
    "        points = self.xyz[idx]  # Points for the idx-th sample\n",
    "        labels = self.labels[idx]  # Labels for the same sample\n",
    "        \n",
    "        # Ensure points is a 2D tensor with shape (N, 3)\n",
    "        if points.ndimension() == 1:\n",
    "            points = points.view(-1, 3)\n",
    "\n",
    "        # Padding to ensure every point cloud has num_points\n",
    "        if points.shape[0] < self.num_points:\n",
    "            padding = torch.zeros(self.num_points - points.shape[0], 3)  # Padding with zeros\n",
    "            points = torch.cat([points, padding], dim=0)  # Concatenate the points with the padding\n",
    "        else:\n",
    "            points = points[:self.num_points]  # Truncate if there are more than num_points\n",
    "\n",
    "        return {'pointcloud': points, 'category': labels}\n"
   ]
  },
  {
   "cell_type": "code",
   "execution_count": 146,
   "metadata": {},
   "outputs": [],
   "source": [
    "def pointnetloss(outputs, labels, m3x3, m64x64, criterion, m3x3_weight=0.0001, m64x64_weight=0.0001):\n",
    "    if not criterion:\n",
    "        criterion = torch.nn.NLLLoss()\n",
    "    bs = outputs.size(0)\n",
    "\n",
    "    # Identity matrices for regularization (to penalize transformation deviations)\n",
    "    id3x3 = torch.eye(3, requires_grad=True).repeat(bs, 1, 1).to(outputs.device)\n",
    "    id64x64 = torch.eye(64, requires_grad=True).repeat(bs, 1, 1).to(outputs.device)\n",
    "\n",
    "    # Regularization terms\n",
    "    diff3x3 = id3x3 - torch.bmm(m3x3, m3x3.transpose(1, 2))\n",
    "    diff64x64 = id64x64 - torch.bmm(m64x64, m64x64.transpose(1, 2))\n",
    "\n",
    "    # Compute the base loss (negative log likelihood)\n",
    "    base_loss = criterion(outputs, labels)\n",
    "\n",
    "    # Add regularization (transformation matrices)\n",
    "    reg_loss = m3x3_weight * (torch.norm(diff3x3) + torch.norm(diff64x64)) / float(bs)\n",
    "\n",
    "    return base_loss + reg_loss"
   ]
  },
  {
   "cell_type": "code",
   "execution_count": 147,
   "metadata": {},
   "outputs": [],
   "source": [
    "def train(pointnet, criterion, train_loader, device, val_loader=None, epochs=15, save=True):\n",
    "    optimizer = torch.optim.Adam(pointnet.parameters(), lr=0.001)\n",
    "    for epoch in range(epochs): \n",
    "        pointnet.train()\n",
    "        running_loss = 0.0\n",
    "        for i, data in enumerate(train_loader, 0):\n",
    "            inputs, labels = data['pointcloud'].to(device).float(), data['category'].to(device)\n",
    "            optimizer.zero_grad()\n",
    "            outputs, m3x3, m64x64 = pointnet(inputs.transpose(1,2))\n",
    "\n",
    "            loss = pointnetloss(outputs, labels, m3x3, m64x64, criterion)\n",
    "            loss.backward()\n",
    "            optimizer.step()\n",
    "\n",
    "            running_loss += loss.item()\n",
    "            if i % 10 == 9:    # print every 10 mini-batches\n",
    "                    print('[Epoch: %d, Batch: %4d / %4d], loss: %.3f' %\n",
    "                        (epoch + 1, i + 1, len(train_loader), running_loss / 10))\n",
    "                    running_loss = 0.0\n",
    "\n",
    "        pointnet.eval()\n",
    "        correct = total = 0\n",
    "\n",
    "        # validation\n",
    "        if val_loader:\n",
    "            with torch.no_grad():\n",
    "                for data in val_loader:\n",
    "                    inputs, labels = data['pointcloud'].to(device).float(), data['category'].to(device)\n",
    "                    outputs, __, __ = pointnet(inputs.transpose(1,2))\n",
    "                    _, predicted = torch.max(outputs.data, 1)\n",
    "                    total += labels.size(0)\n",
    "                    correct += (predicted == labels).sum().item()\n",
    "            val_acc = 100. * correct / total\n",
    "            print('Valid accuracy: %d %%' % val_acc)\n",
    "\n",
    "        # save the model\n",
    "        if save:\n",
    "            print(\"Saving model\")\n",
    "            torch.save(pointnet.state_dict(), f=f\"../model_weights/save_epoch_{str(epoch)}.pth\") # Save the model weights\n"
   ]
  },
  {
   "cell_type": "code",
   "execution_count": 190,
   "metadata": {},
   "outputs": [
    {
     "name": "stdout",
     "output_type": "stream",
     "text": [
      "cuda:0\n"
     ]
    }
   ],
   "source": [
    "device = torch.device(\"cuda:0\" if torch.cuda.is_available() else \"cpu\")\n",
    "print(device)"
   ]
  },
  {
   "cell_type": "code",
   "execution_count": 191,
   "metadata": {},
   "outputs": [],
   "source": [
    "laz_file_dir = '../data/downsampled_class_lazFiles/'"
   ]
  },
  {
   "cell_type": "code",
   "execution_count": 192,
   "metadata": {},
   "outputs": [
    {
     "name": "stdout",
     "output_type": "stream",
     "text": [
      "(9885701, 3) (9885701,)\n"
     ]
    }
   ],
   "source": [
    "X = []\n",
    "y = []\n",
    "for laz_file in os.listdir(laz_file_dir):\n",
    "    las = laspy.read(os.path.join(laz_file_dir, laz_file))\n",
    "    xyz = las.xyz\n",
    "    xyzc = np.hstack((xyz, las.points.array['classification'].reshape(-1, 1)))\n",
    "    X.append(xyz)\n",
    "    y.append((xyzc[:, -1] == 12).astype(int))\n",
    "\n",
    "# Convert lists X and y into numpy arrays\n",
    "X = np.vstack(X)  # Stack all the xyz arrays into a single array\n",
    "y = np.concatenate(y)  # Concatenate all the labels into a single array\n",
    "\n",
    "print(X.shape, y.shape)"
   ]
  },
  {
   "cell_type": "code",
   "execution_count": 193,
   "metadata": {},
   "outputs": [
    {
     "data": {
      "text/plain": [
       "array([ 1,  2,  5,  6,  7,  9, 18], dtype=uint8)"
      ]
     },
     "execution_count": 193,
     "metadata": {},
     "output_type": "execute_result"
    }
   ],
   "source": [
    "np.unique(las.points.array['classification'])"
   ]
  },
  {
   "cell_type": "code",
   "execution_count": 179,
   "metadata": {},
   "outputs": [
    {
     "name": "stdout",
     "output_type": "stream",
     "text": [
      "[[0.17 0.37 0.3 ]\n",
      " [0.81 0.81 0.37]\n",
      " [0.32 0.45 0.34]\n",
      " [0.84 0.47 0.44]\n",
      " [0.75 0.24 0.58]] [0 0 0 0 0]\n",
      "[[0.73 0.21 0.67]\n",
      " [0.72 0.33 0.43]\n",
      " [0.76 0.83 0.44]\n",
      " [0.38 0.45 0.33]\n",
      " [0.41 0.45 0.33]] [0 0 0 0 0]\n"
     ]
    }
   ],
   "source": [
    "print(X[:5], y[:5])\n",
    "X, y = sk.utils.shuffle(X, y, random_state=42)\n",
    "print(X[:5], y[:5])"
   ]
  },
  {
   "cell_type": "code",
   "execution_count": 181,
   "metadata": {},
   "outputs": [
    {
     "name": "stdout",
     "output_type": "stream",
     "text": [
      "[0]\n"
     ]
    }
   ],
   "source": [
    "print(np.unique(y))"
   ]
  },
  {
   "cell_type": "code",
   "execution_count": 153,
   "metadata": {},
   "outputs": [
    {
     "name": "stdout",
     "output_type": "stream",
     "text": [
      "[ 0.51794673 14.4301162 ]\n"
     ]
    }
   ],
   "source": [
    "class_weights = sk.utils.class_weight.compute_class_weight(class_weight='balanced', classes=np.unique(train_y), y=train_y)\n",
    "class_weights_tensor = torch.tensor(class_weights, dtype=torch.float32).cuda() if device.type == \"cuda\" else torch.tensor(class_weights, dtype=torch.float32)\n",
    "criterion = torch.nn.NLLLoss(weight=class_weights_tensor)\n",
    "print(class_weights)"
   ]
  },
  {
   "cell_type": "code",
   "execution_count": 154,
   "metadata": {},
   "outputs": [],
   "source": [
    "train_X = torch.from_numpy(train_X)\n",
    "train_y = torch.from_numpy(train_y).long()\n",
    "test_X = torch.from_numpy(test_X)\n",
    "test_y = torch.from_numpy(test_y).long()"
   ]
  },
  {
   "cell_type": "code",
   "execution_count": 155,
   "metadata": {},
   "outputs": [],
   "source": [
    "train_dataset = PointCloudDataset(train_X, train_y)\n",
    "test_dataset = PointCloudDataset(test_X, test_y)"
   ]
  },
  {
   "cell_type": "code",
   "execution_count": 156,
   "metadata": {},
   "outputs": [],
   "source": [
    "train_loader = DataLoader(train_dataset, batch_size=128, shuffle=True)\n",
    "test_loader = DataLoader(test_dataset, batch_size=128, shuffle=True)"
   ]
  },
  {
   "cell_type": "markdown",
   "metadata": {},
   "source": [
    "### Initializing and training the model"
   ]
  },
  {
   "cell_type": "code",
   "execution_count": 157,
   "metadata": {},
   "outputs": [],
   "source": [
    "pointnet = PointNet(classes=2)\n",
    "pointnet.to(device);"
   ]
  },
  {
   "cell_type": "code",
   "execution_count": 158,
   "metadata": {},
   "outputs": [
    {
     "name": "stdout",
     "output_type": "stream",
     "text": [
      "[Epoch: 1, Batch:   10 /  699], loss: 0.470\n",
      "[Epoch: 1, Batch:   20 /  699], loss: 0.282\n",
      "[Epoch: 1, Batch:   30 /  699], loss: 0.278\n",
      "[Epoch: 1, Batch:   40 /  699], loss: 0.197\n",
      "[Epoch: 1, Batch:   50 /  699], loss: 0.186\n",
      "[Epoch: 1, Batch:   60 /  699], loss: 0.200\n",
      "[Epoch: 1, Batch:   70 /  699], loss: 0.151\n",
      "[Epoch: 1, Batch:   80 /  699], loss: 0.120\n",
      "[Epoch: 1, Batch:   90 /  699], loss: 0.197\n",
      "[Epoch: 1, Batch:  100 /  699], loss: 0.207\n",
      "[Epoch: 1, Batch:  110 /  699], loss: 0.183\n",
      "[Epoch: 1, Batch:  120 /  699], loss: 0.271\n",
      "[Epoch: 1, Batch:  130 /  699], loss: 0.181\n",
      "[Epoch: 1, Batch:  140 /  699], loss: 0.212\n",
      "[Epoch: 1, Batch:  150 /  699], loss: 0.156\n",
      "[Epoch: 1, Batch:  160 /  699], loss: 0.132\n",
      "[Epoch: 1, Batch:  170 /  699], loss: 0.137\n",
      "[Epoch: 1, Batch:  180 /  699], loss: 0.191\n",
      "[Epoch: 1, Batch:  190 /  699], loss: 0.131\n",
      "[Epoch: 1, Batch:  200 /  699], loss: 0.143\n",
      "[Epoch: 1, Batch:  210 /  699], loss: 0.144\n",
      "[Epoch: 1, Batch:  220 /  699], loss: 0.185\n",
      "[Epoch: 1, Batch:  230 /  699], loss: 0.143\n",
      "[Epoch: 1, Batch:  240 /  699], loss: 0.113\n",
      "[Epoch: 1, Batch:  250 /  699], loss: 0.116\n",
      "[Epoch: 1, Batch:  260 /  699], loss: 0.135\n",
      "[Epoch: 1, Batch:  270 /  699], loss: 0.087\n",
      "[Epoch: 1, Batch:  280 /  699], loss: 0.072\n",
      "[Epoch: 1, Batch:  290 /  699], loss: 0.199\n",
      "[Epoch: 1, Batch:  300 /  699], loss: 0.153\n",
      "[Epoch: 1, Batch:  310 /  699], loss: 0.162\n",
      "[Epoch: 1, Batch:  320 /  699], loss: 0.124\n",
      "[Epoch: 1, Batch:  330 /  699], loss: 0.120\n",
      "[Epoch: 1, Batch:  340 /  699], loss: 0.175\n",
      "[Epoch: 1, Batch:  350 /  699], loss: 0.160\n",
      "[Epoch: 1, Batch:  360 /  699], loss: 0.179\n",
      "[Epoch: 1, Batch:  370 /  699], loss: 0.115\n",
      "[Epoch: 1, Batch:  380 /  699], loss: 0.126\n",
      "[Epoch: 1, Batch:  390 /  699], loss: 0.104\n",
      "[Epoch: 1, Batch:  400 /  699], loss: 0.090\n",
      "[Epoch: 1, Batch:  410 /  699], loss: 0.103\n",
      "[Epoch: 1, Batch:  420 /  699], loss: 0.115\n",
      "[Epoch: 1, Batch:  430 /  699], loss: 0.125\n",
      "[Epoch: 1, Batch:  440 /  699], loss: 0.142\n",
      "[Epoch: 1, Batch:  450 /  699], loss: 0.122\n",
      "[Epoch: 1, Batch:  460 /  699], loss: 0.098\n",
      "[Epoch: 1, Batch:  470 /  699], loss: 0.082\n",
      "[Epoch: 1, Batch:  480 /  699], loss: 0.092\n",
      "[Epoch: 1, Batch:  490 /  699], loss: 0.101\n",
      "[Epoch: 1, Batch:  500 /  699], loss: 0.075\n",
      "[Epoch: 1, Batch:  510 /  699], loss: 0.085\n",
      "[Epoch: 1, Batch:  520 /  699], loss: 0.082\n",
      "[Epoch: 1, Batch:  530 /  699], loss: 0.084\n",
      "[Epoch: 1, Batch:  540 /  699], loss: 0.071\n",
      "[Epoch: 1, Batch:  550 /  699], loss: 0.106\n",
      "[Epoch: 1, Batch:  560 /  699], loss: 0.166\n",
      "[Epoch: 1, Batch:  570 /  699], loss: 0.127\n",
      "[Epoch: 1, Batch:  580 /  699], loss: 0.117\n",
      "[Epoch: 1, Batch:  590 /  699], loss: 0.095\n",
      "[Epoch: 1, Batch:  600 /  699], loss: 0.064\n",
      "[Epoch: 1, Batch:  610 /  699], loss: 0.062\n",
      "[Epoch: 1, Batch:  620 /  699], loss: 0.096\n",
      "[Epoch: 1, Batch:  630 /  699], loss: 0.102\n",
      "[Epoch: 1, Batch:  640 /  699], loss: 0.079\n",
      "[Epoch: 1, Batch:  650 /  699], loss: 0.080\n",
      "[Epoch: 1, Batch:  660 /  699], loss: 0.093\n",
      "[Epoch: 1, Batch:  670 /  699], loss: 0.084\n",
      "[Epoch: 1, Batch:  680 /  699], loss: 0.069\n",
      "[Epoch: 1, Batch:  690 /  699], loss: 0.091\n",
      "Valid accuracy: 79 %\n",
      "Saving model\n",
      "[Epoch: 2, Batch:   10 /  699], loss: 0.127\n",
      "[Epoch: 2, Batch:   20 /  699], loss: 0.132\n",
      "[Epoch: 2, Batch:   30 /  699], loss: 0.101\n",
      "[Epoch: 2, Batch:   40 /  699], loss: 0.097\n",
      "[Epoch: 2, Batch:   50 /  699], loss: 0.116\n",
      "[Epoch: 2, Batch:   60 /  699], loss: 0.099\n",
      "[Epoch: 2, Batch:   70 /  699], loss: 0.105\n",
      "[Epoch: 2, Batch:   80 /  699], loss: 0.105\n",
      "[Epoch: 2, Batch:   90 /  699], loss: 0.104\n",
      "[Epoch: 2, Batch:  100 /  699], loss: 0.108\n",
      "[Epoch: 2, Batch:  110 /  699], loss: 0.117\n",
      "[Epoch: 2, Batch:  120 /  699], loss: 0.062\n",
      "[Epoch: 2, Batch:  130 /  699], loss: 0.074\n",
      "[Epoch: 2, Batch:  140 /  699], loss: 0.074\n",
      "[Epoch: 2, Batch:  150 /  699], loss: 0.283\n",
      "[Epoch: 2, Batch:  160 /  699], loss: 0.172\n",
      "[Epoch: 2, Batch:  170 /  699], loss: 0.145\n",
      "[Epoch: 2, Batch:  180 /  699], loss: 0.158\n",
      "[Epoch: 2, Batch:  190 /  699], loss: 0.151\n",
      "[Epoch: 2, Batch:  200 /  699], loss: 0.182\n",
      "[Epoch: 2, Batch:  210 /  699], loss: 0.131\n",
      "[Epoch: 2, Batch:  220 /  699], loss: 0.095\n",
      "[Epoch: 2, Batch:  230 /  699], loss: 0.070\n",
      "[Epoch: 2, Batch:  240 /  699], loss: 0.062\n",
      "[Epoch: 2, Batch:  250 /  699], loss: 0.070\n",
      "[Epoch: 2, Batch:  260 /  699], loss: 0.107\n",
      "[Epoch: 2, Batch:  270 /  699], loss: 0.109\n",
      "[Epoch: 2, Batch:  280 /  699], loss: 0.109\n",
      "[Epoch: 2, Batch:  290 /  699], loss: 0.070\n",
      "[Epoch: 2, Batch:  300 /  699], loss: 0.078\n",
      "[Epoch: 2, Batch:  310 /  699], loss: 0.095\n",
      "[Epoch: 2, Batch:  320 /  699], loss: 0.069\n",
      "[Epoch: 2, Batch:  330 /  699], loss: 0.135\n",
      "[Epoch: 2, Batch:  340 /  699], loss: 0.111\n",
      "[Epoch: 2, Batch:  350 /  699], loss: 0.112\n",
      "[Epoch: 2, Batch:  360 /  699], loss: 0.104\n",
      "[Epoch: 2, Batch:  370 /  699], loss: 0.091\n",
      "[Epoch: 2, Batch:  380 /  699], loss: 0.098\n",
      "[Epoch: 2, Batch:  390 /  699], loss: 0.152\n",
      "[Epoch: 2, Batch:  400 /  699], loss: 0.108\n",
      "[Epoch: 2, Batch:  410 /  699], loss: 0.111\n",
      "[Epoch: 2, Batch:  420 /  699], loss: 0.099\n",
      "[Epoch: 2, Batch:  430 /  699], loss: 0.085\n",
      "[Epoch: 2, Batch:  440 /  699], loss: 0.095\n",
      "[Epoch: 2, Batch:  450 /  699], loss: 0.085\n",
      "[Epoch: 2, Batch:  460 /  699], loss: 0.079\n",
      "[Epoch: 2, Batch:  470 /  699], loss: 0.094\n",
      "[Epoch: 2, Batch:  480 /  699], loss: 0.073\n",
      "[Epoch: 2, Batch:  490 /  699], loss: 0.080\n",
      "[Epoch: 2, Batch:  500 /  699], loss: 0.079\n",
      "[Epoch: 2, Batch:  510 /  699], loss: 0.103\n",
      "[Epoch: 2, Batch:  520 /  699], loss: 0.134\n",
      "[Epoch: 2, Batch:  530 /  699], loss: 0.142\n",
      "[Epoch: 2, Batch:  540 /  699], loss: 0.091\n",
      "[Epoch: 2, Batch:  550 /  699], loss: 0.129\n",
      "[Epoch: 2, Batch:  560 /  699], loss: 0.092\n",
      "[Epoch: 2, Batch:  570 /  699], loss: 0.076\n",
      "[Epoch: 2, Batch:  580 /  699], loss: 0.087\n",
      "[Epoch: 2, Batch:  590 /  699], loss: 0.063\n",
      "[Epoch: 2, Batch:  600 /  699], loss: 0.077\n",
      "[Epoch: 2, Batch:  610 /  699], loss: 0.089\n",
      "[Epoch: 2, Batch:  620 /  699], loss: 0.093\n",
      "[Epoch: 2, Batch:  630 /  699], loss: 0.130\n",
      "[Epoch: 2, Batch:  640 /  699], loss: 0.074\n",
      "[Epoch: 2, Batch:  650 /  699], loss: 0.108\n",
      "[Epoch: 2, Batch:  660 /  699], loss: 0.108\n",
      "[Epoch: 2, Batch:  670 /  699], loss: 0.115\n",
      "[Epoch: 2, Batch:  680 /  699], loss: 0.087\n",
      "[Epoch: 2, Batch:  690 /  699], loss: 0.087\n",
      "Valid accuracy: 87 %\n",
      "Saving model\n"
     ]
    }
   ],
   "source": [
    "train(pointnet, criterion, train_loader, device, test_loader, 2, True)"
   ]
  },
  {
   "cell_type": "markdown",
   "metadata": {},
   "source": [
    "### Evaluating the model"
   ]
  },
  {
   "cell_type": "code",
   "execution_count": 161,
   "metadata": {},
   "outputs": [
    {
     "name": "stderr",
     "output_type": "stream",
     "text": [
      "C:\\Users\\Admin\\AppData\\Local\\Temp\\ipykernel_8744\\2966757700.py:5: FutureWarning: You are using `torch.load` with `weights_only=False` (the current default value), which uses the default pickle module implicitly. It is possible to construct malicious pickle data which will execute arbitrary code during unpickling (See https://github.com/pytorch/pytorch/blob/main/SECURITY.md#untrusted-models for more details). In a future release, the default value for `weights_only` will be flipped to `True`. This limits the functions that could be executed during unpickling. Arbitrary objects will no longer be allowed to be loaded via this mode unless they are explicitly allowlisted by the user via `torch.serialization.add_safe_globals`. We recommend you start setting `weights_only=True` for any use case where you don't have full control of the loaded file. Please open an issue on GitHub for any issues related to this experimental feature.\n",
      "  model.load_state_dict(torch.load('../model_weights/save_epoch_0.pth'))\n"
     ]
    }
   ],
   "source": [
    "# Recreate the model architecture\n",
    "model = PointNet(classes=2)  # Ensure the class arguments are the same as during training\n",
    "\n",
    "# Load the saved state_dict into the model\n",
    "model.load_state_dict(torch.load('../model_weights/save_epoch_0.pth'))\n",
    "\n",
    "# Move the model to the appropriate device and set it to evaluation mode\n",
    "model.to(device)\n",
    "model.eval();"
   ]
  },
  {
   "cell_type": "code",
   "execution_count": 162,
   "metadata": {},
   "outputs": [
    {
     "name": "stdout",
     "output_type": "stream",
     "text": [
      "Batch [  10 /  698]\n",
      "Batch [  20 /  698]\n",
      "Batch [  30 /  698]\n",
      "Batch [  40 /  698]\n",
      "Batch [  50 /  698]\n",
      "Batch [  60 /  698]\n",
      "Batch [  70 /  698]\n",
      "Batch [  80 /  698]\n",
      "Batch [  90 /  698]\n",
      "Batch [ 100 /  698]\n",
      "Batch [ 110 /  698]\n",
      "Batch [ 120 /  698]\n",
      "Batch [ 130 /  698]\n",
      "Batch [ 140 /  698]\n",
      "Batch [ 150 /  698]\n",
      "Batch [ 160 /  698]\n",
      "Batch [ 170 /  698]\n",
      "Batch [ 180 /  698]\n",
      "Batch [ 190 /  698]\n",
      "Batch [ 200 /  698]\n",
      "Batch [ 210 /  698]\n",
      "Batch [ 220 /  698]\n",
      "Batch [ 230 /  698]\n",
      "Batch [ 240 /  698]\n",
      "Batch [ 250 /  698]\n",
      "Batch [ 260 /  698]\n",
      "Batch [ 270 /  698]\n",
      "Batch [ 280 /  698]\n",
      "Batch [ 290 /  698]\n",
      "Batch [ 300 /  698]\n",
      "Batch [ 310 /  698]\n",
      "Batch [ 320 /  698]\n",
      "Batch [ 330 /  698]\n",
      "Batch [ 340 /  698]\n",
      "Batch [ 350 /  698]\n",
      "Batch [ 360 /  698]\n",
      "Batch [ 370 /  698]\n",
      "Batch [ 380 /  698]\n",
      "Batch [ 390 /  698]\n",
      "Batch [ 400 /  698]\n",
      "Batch [ 410 /  698]\n",
      "Batch [ 420 /  698]\n",
      "Batch [ 430 /  698]\n",
      "Batch [ 440 /  698]\n",
      "Batch [ 450 /  698]\n",
      "Batch [ 460 /  698]\n",
      "Batch [ 470 /  698]\n",
      "Batch [ 480 /  698]\n",
      "Batch [ 490 /  698]\n",
      "Batch [ 500 /  698]\n",
      "Batch [ 510 /  698]\n",
      "Batch [ 520 /  698]\n",
      "Batch [ 530 /  698]\n",
      "Batch [ 540 /  698]\n",
      "Batch [ 550 /  698]\n",
      "Batch [ 560 /  698]\n",
      "Batch [ 570 /  698]\n",
      "Batch [ 580 /  698]\n",
      "Batch [ 590 /  698]\n",
      "Batch [ 600 /  698]\n",
      "Batch [ 610 /  698]\n",
      "Batch [ 620 /  698]\n",
      "Batch [ 630 /  698]\n",
      "Batch [ 640 /  698]\n",
      "Batch [ 650 /  698]\n",
      "Batch [ 660 /  698]\n",
      "Batch [ 670 /  698]\n",
      "Batch [ 680 /  698]\n",
      "Batch [ 690 /  698]\n"
     ]
    }
   ],
   "source": [
    "all_preds = []\n",
    "all_labels = []\n",
    "with torch.no_grad():\n",
    "    if device.type == \"cuda\":\n",
    "        for i, data in enumerate(test_loader):\n",
    "            if i % 10 == 9:\n",
    "                print('Batch [%4d / %4d]' % (i+1, len(test_loader)))\n",
    "            inputs = data['pointcloud'].float().to(device)\n",
    "            labels = data['category'].to(device)\n",
    "            outputs, __, __ = pointnet(inputs.transpose(1,2))\n",
    "            _, preds = torch.max(outputs.data, 1)\n",
    "            all_preds += list(preds.cpu().numpy())  # Move the tensor to CPU and convert to numpy\n",
    "            all_labels += list(labels.cpu().numpy())  # Similarly, move labels to CPU\n",
    "    else:\n",
    "        for i, data in enumerate(test_loader):\n",
    "            if i % 10 == 9:\n",
    "                print('Batch [%4d / %4d]' % (i+1, len(test_loader)))\n",
    "            inputs, labels = data['pointcloud'].float(), data['category']\n",
    "            outputs, __, __ = pointnet(inputs.transpose(1,2))\n",
    "            _, preds = torch.max(outputs.data, 1)\n",
    "            all_preds += list(preds.numpy())\n",
    "            all_labels += list(labels.numpy())"
   ]
  },
  {
   "cell_type": "code",
   "execution_count": 163,
   "metadata": {},
   "outputs": [],
   "source": [
    "# function from https://deeplizard.com/learn/video/0LhiS6yu2qQ\n",
    "def plot_confusion_matrix(cm, classes, normalize=False, title='Confusion matrix', cmap=plt.cm.Blues):\n",
    "    if normalize:\n",
    "        cm = cm.astype('float') / cm.sum(axis=1)[:, np.newaxis]\n",
    "        print(\"Normalized confusion matrix\")\n",
    "    else:\n",
    "        print('Confusion matrix, without normalization')\n",
    "\n",
    "    plt.imshow(cm, interpolation='nearest', cmap=cmap)\n",
    "    plt.title(title)\n",
    "    plt.colorbar()\n",
    "    tick_marks = np.arange(len(classes))\n",
    "    plt.xticks(tick_marks, classes, rotation=45)\n",
    "    plt.yticks(tick_marks, classes)\n",
    "\n",
    "    fmt = '.2f' if normalize else 'd'\n",
    "    thresh = cm.max() / 2.\n",
    "    for i, j in itertools.product(range(cm.shape[0]), range(cm.shape[1])):\n",
    "        plt.text(j, i, format(cm[i, j], fmt), horizontalalignment=\"center\", color=\"white\" if cm[i, j] > thresh else \"black\")\n",
    "\n",
    "    plt.tight_layout()\n",
    "    plt.ylabel('True label')\n",
    "    plt.xlabel('Predicted label')"
   ]
  },
  {
   "cell_type": "code",
   "execution_count": 164,
   "metadata": {},
   "outputs": [
    {
     "data": {
      "text/plain": [
       "array([[78147,  8827],\n",
       "       [ 2325,     0]], dtype=int64)"
      ]
     },
     "execution_count": 164,
     "metadata": {},
     "output_type": "execute_result"
    }
   ],
   "source": [
    "cm = confusion_matrix(all_labels, all_preds);\n",
    "cm"
   ]
  },
  {
   "cell_type": "code",
   "execution_count": 165,
   "metadata": {},
   "outputs": [],
   "source": [
    "classes = {\n",
    "    0: \"Not Hillfort\",\n",
    "    1: \"Hillfort\"\n",
    "}"
   ]
  },
  {
   "cell_type": "code",
   "execution_count": 166,
   "metadata": {},
   "outputs": [
    {
     "name": "stdout",
     "output_type": "stream",
     "text": [
      "Normalized confusion matrix\n"
     ]
    },
    {
     "data": {
      "image/png": "[encoded data removed]",
      "text/plain": [
       "<Figure size 800x800 with 2 Axes>"
      ]
     },
     "metadata": {},
     "output_type": "display_data"
    }
   ],
   "source": [
    "plt.figure(figsize=(8,8))\n",
    "plot_confusion_matrix(cm, list(classes.keys()), normalize=True)"
   ]
  },
  {
   "cell_type": "code",
   "execution_count": 167,
   "metadata": {},
   "outputs": [
    {
     "name": "stdout",
     "output_type": "stream",
     "text": [
      "Confusion matrix, without normalization\n"
     ]
    },
    {
     "data": {
      "image/png": "[encoded data removed]",
      "text/plain": [
       "<Figure size 800x800 with 2 Axes>"
      ]
     },
     "metadata": {},
     "output_type": "display_data"
    }
   ],
   "source": [
    "plt.figure(figsize=(8,8))\n",
    "plot_confusion_matrix(cm, list(classes.keys()), normalize=False)"
   ]
  },
  {
   "cell_type": "markdown",
   "metadata": {},
   "source": [
    "### Hyperparameter tuning"
   ]
  },
  {
   "cell_type": "markdown",
   "metadata": {},
   "source": [
    "### Results"
   ]
  },
  {
   "cell_type": "markdown",
   "metadata": {},
   "source": [
    "## End"
   ]
  }
 ],
 "metadata": {
  "kernelspec": {
   "display_name": "gpulocal",
   "language": "python",
   "name": "python3"
  },
  "language_info": {
   "codemirror_mode": {
    "name": "ipython",
    "version": 3
   },
   "file_extension": ".py",
   "mimetype": "text/x-python",
   "name": "python",
   "nbconvert_exporter": "python",
   "pygments_lexer": "ipython3",
   "version": "3.12.5"
  }
 },
 "nbformat": 4,
 "nbformat_minor": 2
}
